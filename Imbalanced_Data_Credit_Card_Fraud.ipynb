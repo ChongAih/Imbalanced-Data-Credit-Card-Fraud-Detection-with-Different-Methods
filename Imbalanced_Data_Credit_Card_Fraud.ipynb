{
  "nbformat": 4,
  "nbformat_minor": 0,
  "metadata": {
    "colab": {
      "name": "Rev3 - Imbalanced Data - Credit Card Fraud.ipynb",
      "provenance": [],
      "collapsed_sections": [
        "A90pyNZ9u_uT",
        "8-4a60X-SH6o",
        "_NO3UQJ3jGep"
      ]
    },
    "kernelspec": {
      "name": "python3",
      "display_name": "Python 3"
    },
    "accelerator": "GPU"
  },
  "cells": [
    {
      "cell_type": "code",
      "metadata": {
        "id": "9SvfFGWMR9C2",
        "colab_type": "code",
        "colab": {}
      },
      "source": [
        "import h5py\n",
        "import warnings\n",
        "\n",
        "import numpy as np\n",
        "import pandas as pd\n",
        "import seaborn as sns\n",
        "import tensorflow as tf\n",
        "import keras.backend as K\n",
        "import matplotlib.pyplot as plt\n",
        "\n",
        "from google.colab import drive\n",
        "from imblearn.over_sampling import SMOTE\n",
        "from imblearn.pipeline import make_pipeline\n",
        "from sklearn.utils import class_weight\n",
        "from sklearn.decomposition import PCA\n",
        "from sklearn.linear_model import LogisticRegression\n",
        "from sklearn.preprocessing import RobustScaler\n",
        "from sklearn.ensemble import RandomForestClassifier, GradientBoostingClassifier\n",
        "from sklearn.model_selection import train_test_split, GridSearchCV, cross_val_score\n",
        "from sklearn.metrics import confusion_matrix, f1_score, precision_score, recall_score, precision_recall_curve\n",
        "from sklearn.metrics import precision_recall_fscore_support, classification_report, make_scorer\n",
        "from keras.wrappers.scikit_learn import KerasClassifier\n",
        "from keras.models import Sequential, load_model\n",
        "from keras.layers import Dense, LeakyReLU\n",
        "from keras.callbacks import EarlyStopping, ModelCheckpoint\n",
        "from xgboost import XGBClassifier\n",
        "\n",
        "sns.set()\n",
        "warnings.filterwarnings(\"ignore\")\n",
        "\n",
        "print (tf.test.gpu_device_name())\n",
        "drive.mount('/content/drive/')"
      ],
      "execution_count": 0,
      "outputs": []
    },
    {
      "cell_type": "markdown",
      "metadata": {
        "id": "A90pyNZ9u_uT",
        "colab_type": "text"
      },
      "source": [
        "# Data Visualization & Preprocessing"
      ]
    },
    {
      "cell_type": "code",
      "metadata": {
        "id": "Bq7ckiswS6ir",
        "colab_type": "code",
        "outputId": "32639b39-88dc-414e-9b3e-fed11c3751ab",
        "colab": {
          "base_uri": "https://localhost:8080/",
          "height": 224
        }
      },
      "source": [
        "df = pd.read_csv(\"/content/drive/My Drive/Colab/Imbalanced Data/creditcard.csv\")\n",
        "df.head()"
      ],
      "execution_count": 3,
      "outputs": [
        {
          "output_type": "execute_result",
          "data": {
            "text/html": [
              "<div>\n",
              "<style scoped>\n",
              "    .dataframe tbody tr th:only-of-type {\n",
              "        vertical-align: middle;\n",
              "    }\n",
              "\n",
              "    .dataframe tbody tr th {\n",
              "        vertical-align: top;\n",
              "    }\n",
              "\n",
              "    .dataframe thead th {\n",
              "        text-align: right;\n",
              "    }\n",
              "</style>\n",
              "<table border=\"1\" class=\"dataframe\">\n",
              "  <thead>\n",
              "    <tr style=\"text-align: right;\">\n",
              "      <th></th>\n",
              "      <th>Time</th>\n",
              "      <th>V1</th>\n",
              "      <th>V2</th>\n",
              "      <th>V3</th>\n",
              "      <th>V4</th>\n",
              "      <th>V5</th>\n",
              "      <th>V6</th>\n",
              "      <th>V7</th>\n",
              "      <th>V8</th>\n",
              "      <th>V9</th>\n",
              "      <th>V10</th>\n",
              "      <th>V11</th>\n",
              "      <th>V12</th>\n",
              "      <th>V13</th>\n",
              "      <th>V14</th>\n",
              "      <th>V15</th>\n",
              "      <th>V16</th>\n",
              "      <th>V17</th>\n",
              "      <th>V18</th>\n",
              "      <th>V19</th>\n",
              "      <th>V20</th>\n",
              "      <th>V21</th>\n",
              "      <th>V22</th>\n",
              "      <th>V23</th>\n",
              "      <th>V24</th>\n",
              "      <th>V25</th>\n",
              "      <th>V26</th>\n",
              "      <th>V27</th>\n",
              "      <th>V28</th>\n",
              "      <th>Amount</th>\n",
              "      <th>Class</th>\n",
              "    </tr>\n",
              "  </thead>\n",
              "  <tbody>\n",
              "    <tr>\n",
              "      <th>0</th>\n",
              "      <td>0.0</td>\n",
              "      <td>-1.359807</td>\n",
              "      <td>-0.072781</td>\n",
              "      <td>2.536347</td>\n",
              "      <td>1.378155</td>\n",
              "      <td>-0.338321</td>\n",
              "      <td>0.462388</td>\n",
              "      <td>0.239599</td>\n",
              "      <td>0.098698</td>\n",
              "      <td>0.363787</td>\n",
              "      <td>0.090794</td>\n",
              "      <td>-0.551600</td>\n",
              "      <td>-0.617801</td>\n",
              "      <td>-0.991390</td>\n",
              "      <td>-0.311169</td>\n",
              "      <td>1.468177</td>\n",
              "      <td>-0.470401</td>\n",
              "      <td>0.207971</td>\n",
              "      <td>0.025791</td>\n",
              "      <td>0.403993</td>\n",
              "      <td>0.251412</td>\n",
              "      <td>-0.018307</td>\n",
              "      <td>0.277838</td>\n",
              "      <td>-0.110474</td>\n",
              "      <td>0.066928</td>\n",
              "      <td>0.128539</td>\n",
              "      <td>-0.189115</td>\n",
              "      <td>0.133558</td>\n",
              "      <td>-0.021053</td>\n",
              "      <td>149.62</td>\n",
              "      <td>0</td>\n",
              "    </tr>\n",
              "    <tr>\n",
              "      <th>1</th>\n",
              "      <td>0.0</td>\n",
              "      <td>1.191857</td>\n",
              "      <td>0.266151</td>\n",
              "      <td>0.166480</td>\n",
              "      <td>0.448154</td>\n",
              "      <td>0.060018</td>\n",
              "      <td>-0.082361</td>\n",
              "      <td>-0.078803</td>\n",
              "      <td>0.085102</td>\n",
              "      <td>-0.255425</td>\n",
              "      <td>-0.166974</td>\n",
              "      <td>1.612727</td>\n",
              "      <td>1.065235</td>\n",
              "      <td>0.489095</td>\n",
              "      <td>-0.143772</td>\n",
              "      <td>0.635558</td>\n",
              "      <td>0.463917</td>\n",
              "      <td>-0.114805</td>\n",
              "      <td>-0.183361</td>\n",
              "      <td>-0.145783</td>\n",
              "      <td>-0.069083</td>\n",
              "      <td>-0.225775</td>\n",
              "      <td>-0.638672</td>\n",
              "      <td>0.101288</td>\n",
              "      <td>-0.339846</td>\n",
              "      <td>0.167170</td>\n",
              "      <td>0.125895</td>\n",
              "      <td>-0.008983</td>\n",
              "      <td>0.014724</td>\n",
              "      <td>2.69</td>\n",
              "      <td>0</td>\n",
              "    </tr>\n",
              "    <tr>\n",
              "      <th>2</th>\n",
              "      <td>1.0</td>\n",
              "      <td>-1.358354</td>\n",
              "      <td>-1.340163</td>\n",
              "      <td>1.773209</td>\n",
              "      <td>0.379780</td>\n",
              "      <td>-0.503198</td>\n",
              "      <td>1.800499</td>\n",
              "      <td>0.791461</td>\n",
              "      <td>0.247676</td>\n",
              "      <td>-1.514654</td>\n",
              "      <td>0.207643</td>\n",
              "      <td>0.624501</td>\n",
              "      <td>0.066084</td>\n",
              "      <td>0.717293</td>\n",
              "      <td>-0.165946</td>\n",
              "      <td>2.345865</td>\n",
              "      <td>-2.890083</td>\n",
              "      <td>1.109969</td>\n",
              "      <td>-0.121359</td>\n",
              "      <td>-2.261857</td>\n",
              "      <td>0.524980</td>\n",
              "      <td>0.247998</td>\n",
              "      <td>0.771679</td>\n",
              "      <td>0.909412</td>\n",
              "      <td>-0.689281</td>\n",
              "      <td>-0.327642</td>\n",
              "      <td>-0.139097</td>\n",
              "      <td>-0.055353</td>\n",
              "      <td>-0.059752</td>\n",
              "      <td>378.66</td>\n",
              "      <td>0</td>\n",
              "    </tr>\n",
              "    <tr>\n",
              "      <th>3</th>\n",
              "      <td>1.0</td>\n",
              "      <td>-0.966272</td>\n",
              "      <td>-0.185226</td>\n",
              "      <td>1.792993</td>\n",
              "      <td>-0.863291</td>\n",
              "      <td>-0.010309</td>\n",
              "      <td>1.247203</td>\n",
              "      <td>0.237609</td>\n",
              "      <td>0.377436</td>\n",
              "      <td>-1.387024</td>\n",
              "      <td>-0.054952</td>\n",
              "      <td>-0.226487</td>\n",
              "      <td>0.178228</td>\n",
              "      <td>0.507757</td>\n",
              "      <td>-0.287924</td>\n",
              "      <td>-0.631418</td>\n",
              "      <td>-1.059647</td>\n",
              "      <td>-0.684093</td>\n",
              "      <td>1.965775</td>\n",
              "      <td>-1.232622</td>\n",
              "      <td>-0.208038</td>\n",
              "      <td>-0.108300</td>\n",
              "      <td>0.005274</td>\n",
              "      <td>-0.190321</td>\n",
              "      <td>-1.175575</td>\n",
              "      <td>0.647376</td>\n",
              "      <td>-0.221929</td>\n",
              "      <td>0.062723</td>\n",
              "      <td>0.061458</td>\n",
              "      <td>123.50</td>\n",
              "      <td>0</td>\n",
              "    </tr>\n",
              "    <tr>\n",
              "      <th>4</th>\n",
              "      <td>2.0</td>\n",
              "      <td>-1.158233</td>\n",
              "      <td>0.877737</td>\n",
              "      <td>1.548718</td>\n",
              "      <td>0.403034</td>\n",
              "      <td>-0.407193</td>\n",
              "      <td>0.095921</td>\n",
              "      <td>0.592941</td>\n",
              "      <td>-0.270533</td>\n",
              "      <td>0.817739</td>\n",
              "      <td>0.753074</td>\n",
              "      <td>-0.822843</td>\n",
              "      <td>0.538196</td>\n",
              "      <td>1.345852</td>\n",
              "      <td>-1.119670</td>\n",
              "      <td>0.175121</td>\n",
              "      <td>-0.451449</td>\n",
              "      <td>-0.237033</td>\n",
              "      <td>-0.038195</td>\n",
              "      <td>0.803487</td>\n",
              "      <td>0.408542</td>\n",
              "      <td>-0.009431</td>\n",
              "      <td>0.798278</td>\n",
              "      <td>-0.137458</td>\n",
              "      <td>0.141267</td>\n",
              "      <td>-0.206010</td>\n",
              "      <td>0.502292</td>\n",
              "      <td>0.219422</td>\n",
              "      <td>0.215153</td>\n",
              "      <td>69.99</td>\n",
              "      <td>0</td>\n",
              "    </tr>\n",
              "  </tbody>\n",
              "</table>\n",
              "</div>"
            ],
            "text/plain": [
              "   Time        V1        V2        V3  ...       V27       V28  Amount  Class\n",
              "0   0.0 -1.359807 -0.072781  2.536347  ...  0.133558 -0.021053  149.62      0\n",
              "1   0.0  1.191857  0.266151  0.166480  ... -0.008983  0.014724    2.69      0\n",
              "2   1.0 -1.358354 -1.340163  1.773209  ... -0.055353 -0.059752  378.66      0\n",
              "3   1.0 -0.966272 -0.185226  1.792993  ...  0.062723  0.061458  123.50      0\n",
              "4   2.0 -1.158233  0.877737  1.548718  ...  0.219422  0.215153   69.99      0\n",
              "\n",
              "[5 rows x 31 columns]"
            ]
          },
          "metadata": {
            "tags": []
          },
          "execution_count": 3
        }
      ]
    },
    {
      "cell_type": "code",
      "metadata": {
        "id": "KSXnU5p9Toim",
        "colab_type": "code",
        "outputId": "60b81ef4-d679-4f58-e15f-cf01ddf271f0",
        "colab": {
          "base_uri": "https://localhost:8080/",
          "height": 317
        }
      },
      "source": [
        "df.describe()"
      ],
      "execution_count": 4,
      "outputs": [
        {
          "output_type": "execute_result",
          "data": {
            "text/html": [
              "<div>\n",
              "<style scoped>\n",
              "    .dataframe tbody tr th:only-of-type {\n",
              "        vertical-align: middle;\n",
              "    }\n",
              "\n",
              "    .dataframe tbody tr th {\n",
              "        vertical-align: top;\n",
              "    }\n",
              "\n",
              "    .dataframe thead th {\n",
              "        text-align: right;\n",
              "    }\n",
              "</style>\n",
              "<table border=\"1\" class=\"dataframe\">\n",
              "  <thead>\n",
              "    <tr style=\"text-align: right;\">\n",
              "      <th></th>\n",
              "      <th>Time</th>\n",
              "      <th>V1</th>\n",
              "      <th>V2</th>\n",
              "      <th>V3</th>\n",
              "      <th>V4</th>\n",
              "      <th>V5</th>\n",
              "      <th>V6</th>\n",
              "      <th>V7</th>\n",
              "      <th>V8</th>\n",
              "      <th>V9</th>\n",
              "      <th>V10</th>\n",
              "      <th>V11</th>\n",
              "      <th>V12</th>\n",
              "      <th>V13</th>\n",
              "      <th>V14</th>\n",
              "      <th>V15</th>\n",
              "      <th>V16</th>\n",
              "      <th>V17</th>\n",
              "      <th>V18</th>\n",
              "      <th>V19</th>\n",
              "      <th>V20</th>\n",
              "      <th>V21</th>\n",
              "      <th>V22</th>\n",
              "      <th>V23</th>\n",
              "      <th>V24</th>\n",
              "      <th>V25</th>\n",
              "      <th>V26</th>\n",
              "      <th>V27</th>\n",
              "      <th>V28</th>\n",
              "      <th>Amount</th>\n",
              "      <th>Class</th>\n",
              "    </tr>\n",
              "  </thead>\n",
              "  <tbody>\n",
              "    <tr>\n",
              "      <th>count</th>\n",
              "      <td>284807.000000</td>\n",
              "      <td>2.848070e+05</td>\n",
              "      <td>2.848070e+05</td>\n",
              "      <td>2.848070e+05</td>\n",
              "      <td>2.848070e+05</td>\n",
              "      <td>2.848070e+05</td>\n",
              "      <td>2.848070e+05</td>\n",
              "      <td>2.848070e+05</td>\n",
              "      <td>2.848070e+05</td>\n",
              "      <td>2.848070e+05</td>\n",
              "      <td>2.848070e+05</td>\n",
              "      <td>2.848070e+05</td>\n",
              "      <td>2.848070e+05</td>\n",
              "      <td>2.848070e+05</td>\n",
              "      <td>2.848070e+05</td>\n",
              "      <td>2.848070e+05</td>\n",
              "      <td>2.848070e+05</td>\n",
              "      <td>2.848070e+05</td>\n",
              "      <td>2.848070e+05</td>\n",
              "      <td>2.848070e+05</td>\n",
              "      <td>2.848070e+05</td>\n",
              "      <td>2.848070e+05</td>\n",
              "      <td>2.848070e+05</td>\n",
              "      <td>2.848070e+05</td>\n",
              "      <td>2.848070e+05</td>\n",
              "      <td>2.848070e+05</td>\n",
              "      <td>2.848070e+05</td>\n",
              "      <td>2.848070e+05</td>\n",
              "      <td>2.848070e+05</td>\n",
              "      <td>284807.000000</td>\n",
              "      <td>284807.000000</td>\n",
              "    </tr>\n",
              "    <tr>\n",
              "      <th>mean</th>\n",
              "      <td>94813.859575</td>\n",
              "      <td>3.919560e-15</td>\n",
              "      <td>5.688174e-16</td>\n",
              "      <td>-8.769071e-15</td>\n",
              "      <td>2.782312e-15</td>\n",
              "      <td>-1.552563e-15</td>\n",
              "      <td>2.010663e-15</td>\n",
              "      <td>-1.694249e-15</td>\n",
              "      <td>-1.927028e-16</td>\n",
              "      <td>-3.137024e-15</td>\n",
              "      <td>1.768627e-15</td>\n",
              "      <td>9.170318e-16</td>\n",
              "      <td>-1.810658e-15</td>\n",
              "      <td>1.693438e-15</td>\n",
              "      <td>1.479045e-15</td>\n",
              "      <td>3.482336e-15</td>\n",
              "      <td>1.392007e-15</td>\n",
              "      <td>-7.528491e-16</td>\n",
              "      <td>4.328772e-16</td>\n",
              "      <td>9.049732e-16</td>\n",
              "      <td>5.085503e-16</td>\n",
              "      <td>1.537294e-16</td>\n",
              "      <td>7.959909e-16</td>\n",
              "      <td>5.367590e-16</td>\n",
              "      <td>4.458112e-15</td>\n",
              "      <td>1.453003e-15</td>\n",
              "      <td>1.699104e-15</td>\n",
              "      <td>-3.660161e-16</td>\n",
              "      <td>-1.206049e-16</td>\n",
              "      <td>88.349619</td>\n",
              "      <td>0.001727</td>\n",
              "    </tr>\n",
              "    <tr>\n",
              "      <th>std</th>\n",
              "      <td>47488.145955</td>\n",
              "      <td>1.958696e+00</td>\n",
              "      <td>1.651309e+00</td>\n",
              "      <td>1.516255e+00</td>\n",
              "      <td>1.415869e+00</td>\n",
              "      <td>1.380247e+00</td>\n",
              "      <td>1.332271e+00</td>\n",
              "      <td>1.237094e+00</td>\n",
              "      <td>1.194353e+00</td>\n",
              "      <td>1.098632e+00</td>\n",
              "      <td>1.088850e+00</td>\n",
              "      <td>1.020713e+00</td>\n",
              "      <td>9.992014e-01</td>\n",
              "      <td>9.952742e-01</td>\n",
              "      <td>9.585956e-01</td>\n",
              "      <td>9.153160e-01</td>\n",
              "      <td>8.762529e-01</td>\n",
              "      <td>8.493371e-01</td>\n",
              "      <td>8.381762e-01</td>\n",
              "      <td>8.140405e-01</td>\n",
              "      <td>7.709250e-01</td>\n",
              "      <td>7.345240e-01</td>\n",
              "      <td>7.257016e-01</td>\n",
              "      <td>6.244603e-01</td>\n",
              "      <td>6.056471e-01</td>\n",
              "      <td>5.212781e-01</td>\n",
              "      <td>4.822270e-01</td>\n",
              "      <td>4.036325e-01</td>\n",
              "      <td>3.300833e-01</td>\n",
              "      <td>250.120109</td>\n",
              "      <td>0.041527</td>\n",
              "    </tr>\n",
              "    <tr>\n",
              "      <th>min</th>\n",
              "      <td>0.000000</td>\n",
              "      <td>-5.640751e+01</td>\n",
              "      <td>-7.271573e+01</td>\n",
              "      <td>-4.832559e+01</td>\n",
              "      <td>-5.683171e+00</td>\n",
              "      <td>-1.137433e+02</td>\n",
              "      <td>-2.616051e+01</td>\n",
              "      <td>-4.355724e+01</td>\n",
              "      <td>-7.321672e+01</td>\n",
              "      <td>-1.343407e+01</td>\n",
              "      <td>-2.458826e+01</td>\n",
              "      <td>-4.797473e+00</td>\n",
              "      <td>-1.868371e+01</td>\n",
              "      <td>-5.791881e+00</td>\n",
              "      <td>-1.921433e+01</td>\n",
              "      <td>-4.498945e+00</td>\n",
              "      <td>-1.412985e+01</td>\n",
              "      <td>-2.516280e+01</td>\n",
              "      <td>-9.498746e+00</td>\n",
              "      <td>-7.213527e+00</td>\n",
              "      <td>-5.449772e+01</td>\n",
              "      <td>-3.483038e+01</td>\n",
              "      <td>-1.093314e+01</td>\n",
              "      <td>-4.480774e+01</td>\n",
              "      <td>-2.836627e+00</td>\n",
              "      <td>-1.029540e+01</td>\n",
              "      <td>-2.604551e+00</td>\n",
              "      <td>-2.256568e+01</td>\n",
              "      <td>-1.543008e+01</td>\n",
              "      <td>0.000000</td>\n",
              "      <td>0.000000</td>\n",
              "    </tr>\n",
              "    <tr>\n",
              "      <th>25%</th>\n",
              "      <td>54201.500000</td>\n",
              "      <td>-9.203734e-01</td>\n",
              "      <td>-5.985499e-01</td>\n",
              "      <td>-8.903648e-01</td>\n",
              "      <td>-8.486401e-01</td>\n",
              "      <td>-6.915971e-01</td>\n",
              "      <td>-7.682956e-01</td>\n",
              "      <td>-5.540759e-01</td>\n",
              "      <td>-2.086297e-01</td>\n",
              "      <td>-6.430976e-01</td>\n",
              "      <td>-5.354257e-01</td>\n",
              "      <td>-7.624942e-01</td>\n",
              "      <td>-4.055715e-01</td>\n",
              "      <td>-6.485393e-01</td>\n",
              "      <td>-4.255740e-01</td>\n",
              "      <td>-5.828843e-01</td>\n",
              "      <td>-4.680368e-01</td>\n",
              "      <td>-4.837483e-01</td>\n",
              "      <td>-4.988498e-01</td>\n",
              "      <td>-4.562989e-01</td>\n",
              "      <td>-2.117214e-01</td>\n",
              "      <td>-2.283949e-01</td>\n",
              "      <td>-5.423504e-01</td>\n",
              "      <td>-1.618463e-01</td>\n",
              "      <td>-3.545861e-01</td>\n",
              "      <td>-3.171451e-01</td>\n",
              "      <td>-3.269839e-01</td>\n",
              "      <td>-7.083953e-02</td>\n",
              "      <td>-5.295979e-02</td>\n",
              "      <td>5.600000</td>\n",
              "      <td>0.000000</td>\n",
              "    </tr>\n",
              "    <tr>\n",
              "      <th>50%</th>\n",
              "      <td>84692.000000</td>\n",
              "      <td>1.810880e-02</td>\n",
              "      <td>6.548556e-02</td>\n",
              "      <td>1.798463e-01</td>\n",
              "      <td>-1.984653e-02</td>\n",
              "      <td>-5.433583e-02</td>\n",
              "      <td>-2.741871e-01</td>\n",
              "      <td>4.010308e-02</td>\n",
              "      <td>2.235804e-02</td>\n",
              "      <td>-5.142873e-02</td>\n",
              "      <td>-9.291738e-02</td>\n",
              "      <td>-3.275735e-02</td>\n",
              "      <td>1.400326e-01</td>\n",
              "      <td>-1.356806e-02</td>\n",
              "      <td>5.060132e-02</td>\n",
              "      <td>4.807155e-02</td>\n",
              "      <td>6.641332e-02</td>\n",
              "      <td>-6.567575e-02</td>\n",
              "      <td>-3.636312e-03</td>\n",
              "      <td>3.734823e-03</td>\n",
              "      <td>-6.248109e-02</td>\n",
              "      <td>-2.945017e-02</td>\n",
              "      <td>6.781943e-03</td>\n",
              "      <td>-1.119293e-02</td>\n",
              "      <td>4.097606e-02</td>\n",
              "      <td>1.659350e-02</td>\n",
              "      <td>-5.213911e-02</td>\n",
              "      <td>1.342146e-03</td>\n",
              "      <td>1.124383e-02</td>\n",
              "      <td>22.000000</td>\n",
              "      <td>0.000000</td>\n",
              "    </tr>\n",
              "    <tr>\n",
              "      <th>75%</th>\n",
              "      <td>139320.500000</td>\n",
              "      <td>1.315642e+00</td>\n",
              "      <td>8.037239e-01</td>\n",
              "      <td>1.027196e+00</td>\n",
              "      <td>7.433413e-01</td>\n",
              "      <td>6.119264e-01</td>\n",
              "      <td>3.985649e-01</td>\n",
              "      <td>5.704361e-01</td>\n",
              "      <td>3.273459e-01</td>\n",
              "      <td>5.971390e-01</td>\n",
              "      <td>4.539234e-01</td>\n",
              "      <td>7.395934e-01</td>\n",
              "      <td>6.182380e-01</td>\n",
              "      <td>6.625050e-01</td>\n",
              "      <td>4.931498e-01</td>\n",
              "      <td>6.488208e-01</td>\n",
              "      <td>5.232963e-01</td>\n",
              "      <td>3.996750e-01</td>\n",
              "      <td>5.008067e-01</td>\n",
              "      <td>4.589494e-01</td>\n",
              "      <td>1.330408e-01</td>\n",
              "      <td>1.863772e-01</td>\n",
              "      <td>5.285536e-01</td>\n",
              "      <td>1.476421e-01</td>\n",
              "      <td>4.395266e-01</td>\n",
              "      <td>3.507156e-01</td>\n",
              "      <td>2.409522e-01</td>\n",
              "      <td>9.104512e-02</td>\n",
              "      <td>7.827995e-02</td>\n",
              "      <td>77.165000</td>\n",
              "      <td>0.000000</td>\n",
              "    </tr>\n",
              "    <tr>\n",
              "      <th>max</th>\n",
              "      <td>172792.000000</td>\n",
              "      <td>2.454930e+00</td>\n",
              "      <td>2.205773e+01</td>\n",
              "      <td>9.382558e+00</td>\n",
              "      <td>1.687534e+01</td>\n",
              "      <td>3.480167e+01</td>\n",
              "      <td>7.330163e+01</td>\n",
              "      <td>1.205895e+02</td>\n",
              "      <td>2.000721e+01</td>\n",
              "      <td>1.559499e+01</td>\n",
              "      <td>2.374514e+01</td>\n",
              "      <td>1.201891e+01</td>\n",
              "      <td>7.848392e+00</td>\n",
              "      <td>7.126883e+00</td>\n",
              "      <td>1.052677e+01</td>\n",
              "      <td>8.877742e+00</td>\n",
              "      <td>1.731511e+01</td>\n",
              "      <td>9.253526e+00</td>\n",
              "      <td>5.041069e+00</td>\n",
              "      <td>5.591971e+00</td>\n",
              "      <td>3.942090e+01</td>\n",
              "      <td>2.720284e+01</td>\n",
              "      <td>1.050309e+01</td>\n",
              "      <td>2.252841e+01</td>\n",
              "      <td>4.584549e+00</td>\n",
              "      <td>7.519589e+00</td>\n",
              "      <td>3.517346e+00</td>\n",
              "      <td>3.161220e+01</td>\n",
              "      <td>3.384781e+01</td>\n",
              "      <td>25691.160000</td>\n",
              "      <td>1.000000</td>\n",
              "    </tr>\n",
              "  </tbody>\n",
              "</table>\n",
              "</div>"
            ],
            "text/plain": [
              "                Time            V1  ...         Amount          Class\n",
              "count  284807.000000  2.848070e+05  ...  284807.000000  284807.000000\n",
              "mean    94813.859575  3.919560e-15  ...      88.349619       0.001727\n",
              "std     47488.145955  1.958696e+00  ...     250.120109       0.041527\n",
              "min         0.000000 -5.640751e+01  ...       0.000000       0.000000\n",
              "25%     54201.500000 -9.203734e-01  ...       5.600000       0.000000\n",
              "50%     84692.000000  1.810880e-02  ...      22.000000       0.000000\n",
              "75%    139320.500000  1.315642e+00  ...      77.165000       0.000000\n",
              "max    172792.000000  2.454930e+00  ...   25691.160000       1.000000\n",
              "\n",
              "[8 rows x 31 columns]"
            ]
          },
          "metadata": {
            "tags": []
          },
          "execution_count": 4
        }
      ]
    },
    {
      "cell_type": "code",
      "metadata": {
        "id": "yyQ51NmITEJK",
        "colab_type": "code",
        "outputId": "ebfaf2f1-2ea8-4ab7-ee63-889ae7abbb43",
        "colab": {
          "base_uri": "https://localhost:8080/",
          "height": 561
        }
      },
      "source": [
        "# Check for any null item\n",
        "print (np.sum(df.isnull()))"
      ],
      "execution_count": 5,
      "outputs": [
        {
          "output_type": "stream",
          "text": [
            "Time      0\n",
            "V1        0\n",
            "V2        0\n",
            "V3        0\n",
            "V4        0\n",
            "V5        0\n",
            "V6        0\n",
            "V7        0\n",
            "V8        0\n",
            "V9        0\n",
            "V10       0\n",
            "V11       0\n",
            "V12       0\n",
            "V13       0\n",
            "V14       0\n",
            "V15       0\n",
            "V16       0\n",
            "V17       0\n",
            "V18       0\n",
            "V19       0\n",
            "V20       0\n",
            "V21       0\n",
            "V22       0\n",
            "V23       0\n",
            "V24       0\n",
            "V25       0\n",
            "V26       0\n",
            "V27       0\n",
            "V28       0\n",
            "Amount    0\n",
            "Class     0\n",
            "dtype: int64\n"
          ],
          "name": "stdout"
        }
      ]
    },
    {
      "cell_type": "code",
      "metadata": {
        "id": "DFw2F8QKTeix",
        "colab_type": "code",
        "outputId": "18d8f2e7-5e15-4d7d-d428-f89ccf05e4c6",
        "colab": {
          "base_uri": "https://localhost:8080/",
          "height": 403
        }
      },
      "source": [
        "print (\"Fraud case: {:.2f}%\".format(np.sum(df[\"Class\"]==1)/len(df)*100))\n",
        "print (\"Non-fraud case: {:.2f}%\".format(np.sum(df[\"Class\"]==0)/len(df)*100))\n",
        "print (\"\\n\")\n",
        "sns.countplot(\"Class\",data=df)\n",
        "plt.title(\"Highly Imbalanced Data\")\n",
        "plt.show()\n",
        "\n",
        "# Split into training and validation set\n",
        "x = df.iloc[:,:-1]\n",
        "y = df.iloc[:,-1]\n",
        "x_train, x_test, y_train, y_test = train_test_split(x, y, test_size=0.2, random_state=42)\n",
        "print (\"Training - fraud case: {:.2f}%\".format(np.sum(y_train==1)/len(y_train)*100))\n",
        "print (\"Testing - fraud case: {:.2f}%\".format(np.sum(y_test==1)/len(y_test)*100))\n",
        "\n",
        "# Scaling should be done after train test split to prevent data leakage\n",
        "# Scale time and amount\n",
        "sc_time = RobustScaler()\n",
        "sc_time.fit(x_train.iloc[:,0:1])\n",
        "x_train.iloc[:,0:1] = sc_time.transform(x_train.iloc[:,0:1])\n",
        "x_test.iloc[:,0:1] = sc_time.transform(x_test.iloc[:,0:1])\n",
        "\n",
        "sc_amount = RobustScaler()\n",
        "sc_amount.fit(x_train.iloc[:,-1:])\n",
        "x_train.iloc[:,-1:] = sc_amount.transform(x_train.iloc[:,-1:])\n",
        "x_test.iloc[:,-1:]= sc_amount.transform(x_test.iloc[:,-1:])"
      ],
      "execution_count": 6,
      "outputs": [
        {
          "output_type": "stream",
          "text": [
            "Fraud case: 0.17%\n",
            "Non-fraud case: 99.83%\n",
            "\n",
            "\n"
          ],
          "name": "stdout"
        },
        {
          "output_type": "display_data",
          "data": {
            "image/png": "[encoded data removed]",
            "text/plain": [
              "<Figure size 432x288 with 1 Axes>"
            ]
          },
          "metadata": {
            "tags": []
          }
        },
        {
          "output_type": "stream",
          "text": [
            "Training - fraud case: 0.17%\n",
            "Testing - fraud case: 0.17%\n"
          ],
          "name": "stdout"
        }
      ]
    },
    {
      "cell_type": "markdown",
      "metadata": {
        "id": "8-4a60X-SH6o",
        "colab_type": "text"
      },
      "source": [
        "# **Case 1 - Deep Learning (Metrics & Cost Sensitive Training)**\n",
        "\n",
        "1.   For fraud detection, recall is an important measure to validate model robustness in capturing all possible fraud cases. However, recall can only be improved at the expense of precision. F1-score can be used to achieve a balance.\n",
        "1.   Deep neural network is able to extract important features during training process by updating weights and biases via backpropagation as compared to traditional machine learning method. Feature extraction techniques such as PCA are to be applied prior to the training process of machine learning. \n",
        "1.   Due to imbalanced data, SMOTE, synthetic minority over sampling technique is applied. SMOTE can be implemented as followed:\n",
        "  * Create samples from minority class instead of creating copies.\n",
        "  * Select 2 or more similar instances using distance measure and alter an instance one attribute at a time by a random amount within difference to the neighbouring instance.\n",
        "1.   SMOTE shall be used in cross validation stage or after train_test_split (applied on training set only) to prevent data leakage.\n",
        "1.   6 cases:\n",
        "  * Default - ANN (Imbalanced data)\n",
        "  * Case 1.1 - Metrics - ANN with f1-score and fl-loss (Imbalanced data)\n",
        "  * Case 1.2 - Metrics - ANN with recall and recall-loss (Imbalanced data)\n",
        "  * Case 1.3 - Metrics & sampling - ANN with f1-score and fl-loss undersampling (balanced data)\n",
        "  * Case 1.4 - Sampling - ANN with wrong SMOTE (imbalanced testing, balanced training)\n",
        "  * Case 1.5 - Sampling - ANN with right SMOTE (imbalanced testing, balanced training)\n",
        "  * Case 1.6 - Cost sensitive training - ANN with class weight (imbalanced data)\n",
        "1.   Summary:\n",
        "  * Standardization shall be applied to training set and same scaling to be used on test set to prevent data leakage\n",
        "  * Metrics shall be adjusted to train ANN. F1-score achieves balance between recall and precision (trade off relationship between recall and precision).\n",
        "  * Probability threshold to classify item as fraud can be adjusted. The higher the probability, the lower recall, the higher precision.\n",
        "  * Model shall be trained with train set with same distribution as test set, if not covariate shift. Trained model will be good with training set but perform poorly with test set.\n",
        "  * SMOTE is to applied during cross validation to prevent data leakage to validation set, resulting in overfitting (val_accuracy=1).\n",
        "  * Undersampling helps achieve balanced data and create same distribution of training and test set. However, it is not advisable as it increases the risk of losing information and in practical the test data is still not balanced (Poor performace of trained model with test set).\n",
        "  * Metrics (F1-score) > sampling\n",
        "  * Metrics, sampling, other algorithms for anomaly detection (random forest, autoencoder), cost sensitive training (class weight, penalized SVM)\n"
      ]
    },
    {
      "cell_type": "markdown",
      "metadata": {
        "id": "G-3VZAezv_ym",
        "colab_type": "text"
      },
      "source": [
        "**Default - ANN (Imbalanced data)**"
      ]
    },
    {
      "cell_type": "code",
      "metadata": {
        "id": "NXPvixR_UBKx",
        "colab_type": "code",
        "outputId": "b3a27fc7-4d52-49ac-a6f7-fc3b52a01664",
        "colab": {
          "base_uri": "https://localhost:8080/",
          "height": 1000
        }
      },
      "source": [
        "# Training, validation and testing set have the same imbalanced distribution\n",
        "\n",
        "input_size = x_train.shape[1]\n",
        "epochs = 20\n",
        "batch_size = 10000\n",
        "best_model_dir = \"/content/drive/My Drive/Colab/Imbalanced Data/credit_card_fraud_model.hdf5\"\n",
        "\n",
        "classifier = Sequential()\n",
        "classifier.add(Dense(10000, activation=\"relu\", input_shape=(input_size,)))\n",
        "classifier.add(Dense(1, activation=\"sigmoid\"))\n",
        "classifier.compile(optimizer=\"adam\", loss=\"binary_crossentropy\", metrics=[\"accuracy\"])\n",
        "classifier.summary()\n",
        "\n",
        "checkpoint = ModelCheckpoint(best_model_dir, monitor=\"val_loss\", save_best_only=True, save_weights_only=False)\n",
        "earlystop = EarlyStopping(monitor=\"val_loss\", patience=5)\n",
        "callbacks_list = [checkpoint, earlystop]\n",
        "classifier.fit(x_train, y_train, validation_split=0.2, epochs=epochs, batch_size=batch_size, callbacks=callbacks_list, shuffle=True)"
      ],
      "execution_count": 7,
      "outputs": [
        {
          "output_type": "stream",
          "text": [
            "WARNING:tensorflow:From /usr/local/lib/python3.6/dist-packages/keras/backend/tensorflow_backend.py:66: The name tf.get_default_graph is deprecated. Please use tf.compat.v1.get_default_graph instead.\n",
            "\n",
            "WARNING:tensorflow:From /usr/local/lib/python3.6/dist-packages/keras/backend/tensorflow_backend.py:541: The name tf.placeholder is deprecated. Please use tf.compat.v1.placeholder instead.\n",
            "\n",
            "WARNING:tensorflow:From /usr/local/lib/python3.6/dist-packages/keras/backend/tensorflow_backend.py:4432: The name tf.random_uniform is deprecated. Please use tf.random.uniform instead.\n",
            "\n",
            "WARNING:tensorflow:From /usr/local/lib/python3.6/dist-packages/keras/optimizers.py:793: The name tf.train.Optimizer is deprecated. Please use tf.compat.v1.train.Optimizer instead.\n",
            "\n",
            "WARNING:tensorflow:From /usr/local/lib/python3.6/dist-packages/keras/backend/tensorflow_backend.py:3657: The name tf.log is deprecated. Please use tf.math.log instead.\n",
            "\n",
            "WARNING:tensorflow:From /usr/local/lib/python3.6/dist-packages/tensorflow/python/ops/nn_impl.py:180: add_dispatch_support.<locals>.wrapper (from tensorflow.python.ops.array_ops) is deprecated and will be removed in a future version.\n",
            "Instructions for updating:\n",
            "Use tf.where in 2.0, which has the same broadcast rule as np.where\n",
            "Model: \"sequential_1\"\n",
            "_________________________________________________________________\n",
            "Layer (type)                 Output Shape              Param #   \n",
            "=================================================================\n",
            "dense_1 (Dense)              (None, 10000)             310000    \n",
            "_________________________________________________________________\n",
            "dense_2 (Dense)              (None, 1)                 10001     \n",
            "=================================================================\n",
            "Total params: 320,001\n",
            "Trainable params: 320,001\n",
            "Non-trainable params: 0\n",
            "_________________________________________________________________\n",
            "WARNING:tensorflow:From /usr/local/lib/python3.6/dist-packages/keras/backend/tensorflow_backend.py:1033: The name tf.assign_add is deprecated. Please use tf.compat.v1.assign_add instead.\n",
            "\n",
            "Train on 182276 samples, validate on 45569 samples\n",
            "Epoch 1/20\n",
            "182276/182276 [==============================] - 4s 25us/step - loss: 0.1205 - acc: 0.9466 - val_loss: 0.0072 - val_acc: 0.9991\n",
            "Epoch 2/20\n",
            "182276/182276 [==============================] - 1s 7us/step - loss: 0.0058 - acc: 0.9993 - val_loss: 0.0049 - val_acc: 0.9993\n",
            "Epoch 3/20\n",
            "182276/182276 [==============================] - 1s 7us/step - loss: 0.0045 - acc: 0.9993 - val_loss: 0.0039 - val_acc: 0.9993\n",
            "Epoch 4/20\n",
            "182276/182276 [==============================] - 1s 7us/step - loss: 0.0039 - acc: 0.9994 - val_loss: 0.0035 - val_acc: 0.9993\n",
            "Epoch 5/20\n",
            "182276/182276 [==============================] - 1s 7us/step - loss: 0.0036 - acc: 0.9994 - val_loss: 0.0033 - val_acc: 0.9994\n",
            "Epoch 6/20\n",
            "182276/182276 [==============================] - 1s 7us/step - loss: 0.0034 - acc: 0.9994 - val_loss: 0.0030 - val_acc: 0.9994\n",
            "Epoch 7/20\n",
            "182276/182276 [==============================] - 1s 7us/step - loss: 0.0032 - acc: 0.9994 - val_loss: 0.0028 - val_acc: 0.9994\n",
            "Epoch 8/20\n",
            "182276/182276 [==============================] - 1s 7us/step - loss: 0.0030 - acc: 0.9995 - val_loss: 0.0027 - val_acc: 0.9994\n",
            "Epoch 9/20\n",
            "182276/182276 [==============================] - 1s 7us/step - loss: 0.0029 - acc: 0.9994 - val_loss: 0.0026 - val_acc: 0.9994\n",
            "Epoch 10/20\n",
            "182276/182276 [==============================] - 1s 7us/step - loss: 0.0028 - acc: 0.9995 - val_loss: 0.0026 - val_acc: 0.9994\n",
            "Epoch 11/20\n",
            "182276/182276 [==============================] - 1s 7us/step - loss: 0.0027 - acc: 0.9995 - val_loss: 0.0025 - val_acc: 0.9995\n",
            "Epoch 12/20\n",
            "182276/182276 [==============================] - 1s 7us/step - loss: 0.0027 - acc: 0.9995 - val_loss: 0.0026 - val_acc: 0.9994\n",
            "Epoch 13/20\n",
            "182276/182276 [==============================] - 1s 7us/step - loss: 0.0026 - acc: 0.9995 - val_loss: 0.0025 - val_acc: 0.9995\n",
            "Epoch 14/20\n",
            "182276/182276 [==============================] - 1s 7us/step - loss: 0.0025 - acc: 0.9995 - val_loss: 0.0025 - val_acc: 0.9994\n",
            "Epoch 15/20\n",
            "182276/182276 [==============================] - 1s 7us/step - loss: 0.0026 - acc: 0.9995 - val_loss: 0.0024 - val_acc: 0.9994\n",
            "Epoch 16/20\n",
            "182276/182276 [==============================] - 1s 7us/step - loss: 0.0024 - acc: 0.9995 - val_loss: 0.0026 - val_acc: 0.9994\n",
            "Epoch 17/20\n",
            "182276/182276 [==============================] - 1s 7us/step - loss: 0.0025 - acc: 0.9995 - val_loss: 0.0025 - val_acc: 0.9994\n",
            "Epoch 18/20\n",
            "182276/182276 [==============================] - 1s 7us/step - loss: 0.0024 - acc: 0.9995 - val_loss: 0.0024 - val_acc: 0.9995\n",
            "Epoch 19/20\n",
            "182276/182276 [==============================] - 1s 7us/step - loss: 0.0023 - acc: 0.9995 - val_loss: 0.0024 - val_acc: 0.9994\n",
            "Epoch 20/20\n",
            "182276/182276 [==============================] - 1s 7us/step - loss: 0.0023 - acc: 0.9995 - val_loss: 0.0023 - val_acc: 0.9995\n"
          ],
          "name": "stdout"
        },
        {
          "output_type": "execute_result",
          "data": {
            "text/plain": [
              "<keras.callbacks.History at 0x7f93d2a4abe0>"
            ]
          },
          "metadata": {
            "tags": []
          },
          "execution_count": 7
        }
      ]
    },
    {
      "cell_type": "code",
      "metadata": {
        "id": "7mk8vqS_XNSE",
        "colab_type": "code",
        "outputId": "f14e952b-c974-4616-c34e-b71304302540",
        "colab": {
          "base_uri": "https://localhost:8080/",
          "height": 525
        }
      },
      "source": [
        "classifier = load_model(best_model_dir)\n",
        "y_pred = classifier.predict(x_test)\n",
        "y_pred = y_pred>=0.5\n",
        "print (\"precision: {:.2f}\".format(precision_score(y_test, y_pred)))\n",
        "print (\"recall: {:.2f}\".format(recall_score(y_test, y_pred)))\n",
        "print (\"f1 score: {:.2f}\".format(f1_score(y_test, y_pred)))\n",
        "print (\"\\n\")\n",
        "\n",
        "cm = confusion_matrix(y_test, y_pred)\n",
        "print (\"Confusion matrix:\\n\", cm)\n",
        "print (\"\\n\")\n",
        "\n",
        "fig, ax = plt.subplots(1, 2, figsize=(24,5))\n",
        "\n",
        "# annot: If True, write the data value in each cell\n",
        "sns.heatmap(cm, ax=ax[0], annot=True, cmap=plt.cm.copper)\n",
        "ax[0].set_title(\"Confusion Matrix\")\n",
        "ax[0].set_xlabel(\"Prediction\")\n",
        "ax[0].set_ylabel(\"Actual\")\n",
        "\n",
        "precision, recall, _ = precision_recall_curve(y_test, y_pred)\n",
        "ax[1].plot(recall, precision)\n",
        "ax[1].set_title(\"Precision-recall Curve\")\n",
        "ax[1].set_xlabel(\"Recall\")\n",
        "ax[1].set_ylabel(\"Precision\")\n",
        "plt.show()"
      ],
      "execution_count": 10,
      "outputs": [
        {
          "output_type": "stream",
          "text": [
            "precision: 0.93\n",
            "recall: 0.77\n",
            "f1 score: 0.84\n",
            "\n",
            "\n",
            "Confusion matrix:\n",
            " [[56858     6]\n",
            " [   23    75]]\n",
            "\n",
            "\n"
          ],
          "name": "stdout"
        },
        {
          "output_type": "display_data",
          "data": {
            "image/png": "[encoded data removed]",
            "text/plain": [
              "<Figure size 1728x360 with 3 Axes>"
            ]
          },
          "metadata": {
            "tags": []
          }
        }
      ]
    },
    {
      "cell_type": "markdown",
      "metadata": {
        "id": "gXmEwtL1wi8M",
        "colab_type": "text"
      },
      "source": [
        "**Case 1.1 - ANN with f1-score and fl-loss (Imbalanced data)**"
      ]
    },
    {
      "cell_type": "code",
      "metadata": {
        "id": "XO_ZhtynLHEV",
        "colab_type": "code",
        "outputId": "cef84de1-66f2-4595-d807-0440cb6d3841",
        "colab": {
          "base_uri": "https://localhost:8080/",
          "height": 969
        }
      },
      "source": [
        "# Monitor f1-score and select model with best f1-score\n",
        "# Training, validation and testing set have the same imbalanced distribution\n",
        "\n",
        "def f1(y_true, y_pred):\n",
        "    y_pred = K.round(y_pred)\n",
        "    # Each row represents one observation with multiple classes\n",
        "    # Summation should be done along the column --> axis = 0\n",
        "    tp = K.sum(K.cast(y_true*y_pred, 'float'), axis=0)\n",
        "    fp = K.sum(K.cast((1-y_true)*y_pred, 'float'), axis=0)\n",
        "    fn = K.sum(K.cast(y_true*(1-y_pred), 'float'), axis=0)\n",
        "    p = tp/(tp+fp+K.epsilon())\n",
        "    r = tp/(tp+fn+K.epsilon())\n",
        "    f1 = 2*p*r/(p+r+K.epsilon())\n",
        "    f1 = tf.where(tf.is_nan(f1), tf.zeros_like(f1), f1)\n",
        "    return K.mean(f1)\n",
        "\n",
        "def f1_loss(y_true, y_pred):\n",
        "    tp = K.sum(K.cast(y_true*y_pred, 'float'), axis=0)\n",
        "    tn = K.sum(K.cast((1-y_true)*(1-y_pred), 'float'), axis=0)\n",
        "    fp = K.sum(K.cast((1-y_true)*y_pred, 'float'), axis=0)\n",
        "    fn = K.sum(K.cast(y_true*(1-y_pred), 'float'), axis=0)\n",
        "    p = tp / (tp + fp + K.epsilon())\n",
        "    r = tp / (tp + fn + K.epsilon())\n",
        "    f1 = 2*p*r / (p+r+K.epsilon())\n",
        "    f1 = tf.where(tf.is_nan(f1), tf.zeros_like(f1), f1)\n",
        "    return 1 - K.mean(f1)\n",
        "\n",
        "  \n",
        "input_size = x_train.shape[1]\n",
        "epochs = 50\n",
        "batch_size = 10000\n",
        "best_model_dir = \"/content/drive/My Drive/Colab/Imbalanced Data/case1.1_credit_card_fraud_model.hdf5\"\n",
        "\n",
        "classifier = Sequential()\n",
        "classifier.add(Dense(10000, activation=\"relu\", input_shape=(input_size,)))\n",
        "classifier.add(Dense(1, activation=\"sigmoid\"))\n",
        "classifier.compile(optimizer=\"adam\", loss=[f1_loss], metrics=[\"accuracy\", f1])\n",
        "classifier.summary()\n",
        "\n",
        "checkpoint = ModelCheckpoint(best_model_dir, monitor=\"val_f1\", save_best_only=True, save_weights_only=False, mode=\"max\")\n",
        "earlystop = EarlyStopping(monitor=\"val_f1\", patience=20)\n",
        "callbacks_list = [checkpoint, earlystop]\n",
        "classifier.fit(x_train, y_train, validation_split=0.2, epochs=epochs, batch_size=batch_size, callbacks=callbacks_list, shuffle=True)"
      ],
      "execution_count": 11,
      "outputs": [
        {
          "output_type": "stream",
          "text": [
            "Model: \"sequential_2\"\n",
            "_________________________________________________________________\n",
            "Layer (type)                 Output Shape              Param #   \n",
            "=================================================================\n",
            "dense_3 (Dense)              (None, 10000)             310000    \n",
            "_________________________________________________________________\n",
            "dense_4 (Dense)              (None, 1)                 10001     \n",
            "=================================================================\n",
            "Total params: 320,001\n",
            "Trainable params: 320,001\n",
            "Non-trainable params: 0\n",
            "_________________________________________________________________\n",
            "Train on 182276 samples, validate on 45569 samples\n",
            "Epoch 1/50\n",
            "182276/182276 [==============================] - 2s 10us/step - loss: 0.8773 - acc: 0.9527 - f1: 0.4398 - val_loss: 0.2800 - val_acc: 0.9993 - val_f1: 0.7984\n",
            "Epoch 2/50\n",
            "182276/182276 [==============================] - 1s 7us/step - loss: 0.2025 - acc: 0.9994 - f1: 0.8102 - val_loss: 0.1699 - val_acc: 0.9994 - val_f1: 0.8301\n",
            "Epoch 3/50\n",
            "182276/182276 [==============================] - 1s 7us/step - loss: 0.1891 - acc: 0.9994 - f1: 0.8122 - val_loss: 0.1695 - val_acc: 0.9994 - val_f1: 0.8301\n",
            "Epoch 4/50\n",
            "182276/182276 [==============================] - 1s 7us/step - loss: 0.1845 - acc: 0.9994 - f1: 0.8165 - val_loss: 0.1631 - val_acc: 0.9994 - val_f1: 0.8370\n",
            "Epoch 5/50\n",
            "182276/182276 [==============================] - 1s 7us/step - loss: 0.1859 - acc: 0.9994 - f1: 0.8139 - val_loss: 0.1796 - val_acc: 0.9993 - val_f1: 0.8193\n",
            "Epoch 6/50\n",
            "182276/182276 [==============================] - 1s 7us/step - loss: 0.1803 - acc: 0.9994 - f1: 0.8218 - val_loss: 0.1632 - val_acc: 0.9994 - val_f1: 0.8370\n",
            "Epoch 7/50\n",
            "182276/182276 [==============================] - 1s 7us/step - loss: 0.1892 - acc: 0.9994 - f1: 0.8108 - val_loss: 0.1631 - val_acc: 0.9994 - val_f1: 0.8370\n",
            "Epoch 8/50\n",
            "182276/182276 [==============================] - 1s 7us/step - loss: 0.1911 - acc: 0.9994 - f1: 0.8090 - val_loss: 0.1630 - val_acc: 0.9994 - val_f1: 0.8370\n",
            "Epoch 9/50\n",
            "182276/182276 [==============================] - 1s 7us/step - loss: 0.1898 - acc: 0.9994 - f1: 0.8103 - val_loss: 0.1630 - val_acc: 0.9994 - val_f1: 0.8370\n",
            "Epoch 10/50\n",
            "182276/182276 [==============================] - 1s 7us/step - loss: 0.1904 - acc: 0.9994 - f1: 0.8096 - val_loss: 0.1630 - val_acc: 0.9994 - val_f1: 0.8370\n",
            "Epoch 11/50\n",
            "182276/182276 [==============================] - 1s 7us/step - loss: 0.1929 - acc: 0.9994 - f1: 0.8071 - val_loss: 0.1630 - val_acc: 0.9994 - val_f1: 0.8370\n",
            "Epoch 12/50\n",
            "182276/182276 [==============================] - 1s 7us/step - loss: 0.1889 - acc: 0.9994 - f1: 0.8111 - val_loss: 0.1630 - val_acc: 0.9994 - val_f1: 0.8370\n",
            "Epoch 13/50\n",
            "182276/182276 [==============================] - 1s 7us/step - loss: 0.1861 - acc: 0.9994 - f1: 0.8139 - val_loss: 0.1630 - val_acc: 0.9994 - val_f1: 0.8370\n",
            "Epoch 14/50\n",
            "182276/182276 [==============================] - 1s 7us/step - loss: 0.1944 - acc: 0.9994 - f1: 0.8056 - val_loss: 0.1630 - val_acc: 0.9994 - val_f1: 0.8370\n",
            "Epoch 15/50\n",
            "182276/182276 [==============================] - 1s 7us/step - loss: 0.1859 - acc: 0.9994 - f1: 0.8141 - val_loss: 0.1630 - val_acc: 0.9994 - val_f1: 0.8370\n",
            "Epoch 16/50\n",
            "182276/182276 [==============================] - 1s 7us/step - loss: 0.1885 - acc: 0.9994 - f1: 0.8115 - val_loss: 0.1630 - val_acc: 0.9994 - val_f1: 0.8370\n",
            "Epoch 17/50\n",
            "182276/182276 [==============================] - 1s 7us/step - loss: 0.1858 - acc: 0.9994 - f1: 0.8141 - val_loss: 0.1630 - val_acc: 0.9994 - val_f1: 0.8370\n",
            "Epoch 18/50\n",
            "182276/182276 [==============================] - 1s 7us/step - loss: 0.1948 - acc: 0.9994 - f1: 0.8050 - val_loss: 0.1630 - val_acc: 0.9994 - val_f1: 0.8370\n",
            "Epoch 19/50\n",
            "182276/182276 [==============================] - 1s 7us/step - loss: 0.1919 - acc: 0.9994 - f1: 0.8081 - val_loss: 0.1630 - val_acc: 0.9994 - val_f1: 0.8370\n",
            "Epoch 20/50\n",
            "182276/182276 [==============================] - 1s 7us/step - loss: 0.2006 - acc: 0.9994 - f1: 0.7993 - val_loss: 0.1630 - val_acc: 0.9994 - val_f1: 0.8370\n",
            "Epoch 21/50\n",
            "182276/182276 [==============================] - 1s 7us/step - loss: 0.1846 - acc: 0.9994 - f1: 0.8153 - val_loss: 0.1630 - val_acc: 0.9994 - val_f1: 0.8370\n"
          ],
          "name": "stdout"
        },
        {
          "output_type": "execute_result",
          "data": {
            "text/plain": [
              "<keras.callbacks.History at 0x7f938e51f668>"
            ]
          },
          "metadata": {
            "tags": []
          },
          "execution_count": 11
        }
      ]
    },
    {
      "cell_type": "code",
      "metadata": {
        "id": "_8gALSThP3z0",
        "colab_type": "code",
        "outputId": "51f4bd18-4871-4fc3-af87-d0af54e86c37",
        "colab": {
          "base_uri": "https://localhost:8080/",
          "height": 525
        }
      },
      "source": [
        "classifier = load_model(best_model_dir, custom_objects={\"f1_loss\":f1_loss, \"f1\":f1})\n",
        "y_pred = classifier.predict(x_test)\n",
        "y_pred = y_pred>=0.5\n",
        "print (\"precision: {:.2f}\".format(precision_score(y_test, y_pred)))\n",
        "print (\"recall: {:.2f}\".format(recall_score(y_test, y_pred)))\n",
        "print (\"f1 score: {:.2f}\".format(f1_score(y_test, y_pred)))\n",
        "print (\"\\n\")\n",
        "\n",
        "cm = confusion_matrix(y_test, y_pred)\n",
        "print (\"Confusion matrix:\\n\", cm)\n",
        "print (\"\\n\")\n",
        "\n",
        "fig, ax = plt.subplots(1, 2, figsize=(24,5))\n",
        "\n",
        "# annot: If True, write the data value in each cell\n",
        "sns.heatmap(cm, ax=ax[0], annot=True, cmap=plt.cm.copper)\n",
        "ax[0].set_title(\"Confusion Matrix\")\n",
        "ax[0].set_xlabel(\"Prediction\")\n",
        "ax[0].set_ylabel(\"Actual\")\n",
        "\n",
        "precision, recall, _ = precision_recall_curve(y_test, y_pred)\n",
        "ax[1].plot(recall, precision)\n",
        "ax[1].set_title(\"Precision-recall Curve\")\n",
        "ax[1].set_xlabel(\"Recall\")\n",
        "ax[1].set_ylabel(\"Precision\")\n",
        "plt.show()"
      ],
      "execution_count": 12,
      "outputs": [
        {
          "output_type": "stream",
          "text": [
            "precision: 0.83\n",
            "recall: 0.80\n",
            "f1 score: 0.81\n",
            "\n",
            "\n",
            "Confusion matrix:\n",
            " [[56848    16]\n",
            " [   20    78]]\n",
            "\n",
            "\n"
          ],
          "name": "stdout"
        },
        {
          "output_type": "display_data",
          "data": {
            "image/png": "[encoded data removed]",
            "text/plain": [
              "<Figure size 1728x360 with 3 Axes>"
            ]
          },
          "metadata": {
            "tags": []
          }
        }
      ]
    },
    {
      "cell_type": "markdown",
      "metadata": {
        "id": "jLSY7Fecw4RA",
        "colab_type": "text"
      },
      "source": [
        "**Case 1.2 - ANN with recall and recall-loss (Imbalanced data)**"
      ]
    },
    {
      "cell_type": "code",
      "metadata": {
        "id": "EbwMbv9zzMZy",
        "colab_type": "code",
        "outputId": "56b93277-563b-46d7-80d7-ce4e1b41ae8a",
        "colab": {
          "base_uri": "https://localhost:8080/",
          "height": 969
        }
      },
      "source": [
        "# Training, validation and testing set have the same imbalanced distribution\n",
        "\n",
        "def recall(y_true, y_pred):\n",
        "    y_pred = K.round(y_pred)\n",
        "    # Each row represents one observation with multiple classes\n",
        "    # Summation should be done along the column --> axis = 0\n",
        "    tp = K.sum(K.cast(y_true*y_pred, 'float'), axis=0)\n",
        "    fp = K.sum(K.cast((1-y_true)*y_pred, 'float'), axis=0)\n",
        "    fn = K.sum(K.cast(y_true*(1-y_pred), 'float'), axis=0)\n",
        "    p = tp/(tp+fp+K.epsilon())\n",
        "    r = tp/(tp+fn+K.epsilon())\n",
        "    f1 = 2*p*r/(p+r+K.epsilon())\n",
        "    f1 = tf.where(tf.is_nan(f1), tf.zeros_like(f1), f1)\n",
        "    return K.mean(r)\n",
        "\n",
        "def recall_loss(y_true, y_pred):\n",
        "    tp = K.sum(K.cast(y_true*y_pred, 'float'), axis=0)\n",
        "    tn = K.sum(K.cast((1-y_true)*(1-y_pred), 'float'), axis=0)\n",
        "    fp = K.sum(K.cast((1-y_true)*y_pred, 'float'), axis=0)\n",
        "    fn = K.sum(K.cast(y_true*(1-y_pred), 'float'), axis=0)\n",
        "    p = tp / (tp + fp + K.epsilon())\n",
        "    r = tp / (tp + fn + K.epsilon())\n",
        "    f1 = 2*p*r / (p+r+K.epsilon())\n",
        "    f1 = tf.where(tf.is_nan(f1), tf.zeros_like(f1), f1)\n",
        "    return 1 - K.mean(r)\n",
        "\n",
        "  \n",
        "input_size = x_train.shape[1]\n",
        "epochs = 50\n",
        "batch_size = 10000\n",
        "best_model_dir = \"/content/drive/My Drive/Colab/Imbalanced Data/case1.2_credit_card_fraud_model.hdf5\"\n",
        "\n",
        "classifier = Sequential()\n",
        "classifier.add(Dense(10000, activation=\"relu\", input_shape=(input_size,)))\n",
        "classifier.add(Dense(1, activation=\"sigmoid\"))\n",
        "classifier.compile(optimizer=\"adam\", loss=[recall_loss], metrics=[\"accuracy\", recall])\n",
        "classifier.summary()\n",
        "\n",
        "checkpoint = ModelCheckpoint(best_model_dir, monitor=\"val_recall\", save_best_only=True, save_weights_only=False, mode=\"max\")\n",
        "earlystop = EarlyStopping(monitor=\"val_recall\", patience=20)\n",
        "callbacks_list = [checkpoint, earlystop]\n",
        "classifier.fit(x_train, y_train, validation_split=0.2, epochs=epochs, batch_size=batch_size, callbacks=callbacks_list, shuffle=True)"
      ],
      "execution_count": 13,
      "outputs": [
        {
          "output_type": "stream",
          "text": [
            "Model: \"sequential_3\"\n",
            "_________________________________________________________________\n",
            "Layer (type)                 Output Shape              Param #   \n",
            "=================================================================\n",
            "dense_5 (Dense)              (None, 10000)             310000    \n",
            "_________________________________________________________________\n",
            "dense_6 (Dense)              (None, 1)                 10001     \n",
            "=================================================================\n",
            "Total params: 320,001\n",
            "Trainable params: 320,001\n",
            "Non-trainable params: 0\n",
            "_________________________________________________________________\n",
            "Train on 182276 samples, validate on 45569 samples\n",
            "Epoch 1/50\n",
            "182276/182276 [==============================] - 2s 10us/step - loss: 0.0354 - acc: 0.0320 - recall: 0.9831 - val_loss: 0.0047 - val_acc: 0.0019 - val_recall: 1.0000\n",
            "Epoch 2/50\n",
            "182276/182276 [==============================] - 1s 7us/step - loss: 9.6401e-04 - acc: 0.0017 - recall: 1.0000 - val_loss: 0.0020 - val_acc: 0.0019 - val_recall: 1.0000\n",
            "Epoch 3/50\n",
            "182276/182276 [==============================] - 1s 7us/step - loss: 3.3927e-04 - acc: 0.0017 - recall: 1.0000 - val_loss: 0.0014 - val_acc: 0.0019 - val_recall: 1.0000\n",
            "Epoch 4/50\n",
            "182276/182276 [==============================] - 1s 7us/step - loss: 1.4953e-04 - acc: 0.0017 - recall: 1.0000 - val_loss: 0.0011 - val_acc: 0.0019 - val_recall: 1.0000\n",
            "Epoch 5/50\n",
            "182276/182276 [==============================] - 1s 7us/step - loss: 1.0455e-04 - acc: 0.0017 - recall: 1.0000 - val_loss: 9.1748e-04 - val_acc: 0.0019 - val_recall: 1.0000\n",
            "Epoch 6/50\n",
            "182276/182276 [==============================] - 1s 7us/step - loss: 7.6178e-05 - acc: 0.0017 - recall: 1.0000 - val_loss: 8.0267e-04 - val_acc: 0.0019 - val_recall: 1.0000\n",
            "Epoch 7/50\n",
            "182276/182276 [==============================] - 1s 7us/step - loss: 6.3968e-05 - acc: 0.0017 - recall: 1.0000 - val_loss: 6.9494e-04 - val_acc: 0.0019 - val_recall: 1.0000\n",
            "Epoch 8/50\n",
            "182276/182276 [==============================] - 1s 7us/step - loss: 4.7451e-05 - acc: 0.0017 - recall: 1.0000 - val_loss: 6.2351e-04 - val_acc: 0.0019 - val_recall: 1.0000\n",
            "Epoch 9/50\n",
            "182276/182276 [==============================] - 1s 7us/step - loss: 4.0890e-05 - acc: 0.0017 - recall: 1.0000 - val_loss: 5.6399e-04 - val_acc: 0.0019 - val_recall: 1.0000\n",
            "Epoch 10/50\n",
            "182276/182276 [==============================] - 1s 7us/step - loss: 3.6578e-05 - acc: 0.0017 - recall: 1.0000 - val_loss: 5.1793e-04 - val_acc: 0.0019 - val_recall: 1.0000\n",
            "Epoch 11/50\n",
            "182276/182276 [==============================] - 1s 7us/step - loss: 2.7527e-05 - acc: 0.0017 - recall: 1.0000 - val_loss: 4.7417e-04 - val_acc: 0.0019 - val_recall: 1.0000\n",
            "Epoch 12/50\n",
            "182276/182276 [==============================] - 1s 7us/step - loss: 2.4839e-05 - acc: 0.0017 - recall: 1.0000 - val_loss: 4.3898e-04 - val_acc: 0.0019 - val_recall: 1.0000\n",
            "Epoch 13/50\n",
            "182276/182276 [==============================] - 1s 7us/step - loss: 2.0478e-05 - acc: 0.0017 - recall: 1.0000 - val_loss: 4.1065e-04 - val_acc: 0.0019 - val_recall: 1.0000\n",
            "Epoch 14/50\n",
            "182276/182276 [==============================] - 1s 7us/step - loss: 1.8414e-05 - acc: 0.0017 - recall: 1.0000 - val_loss: 3.8279e-04 - val_acc: 0.0019 - val_recall: 1.0000\n",
            "Epoch 15/50\n",
            "182276/182276 [==============================] - 1s 7us/step - loss: 2.0866e-05 - acc: 0.0017 - recall: 1.0000 - val_loss: 3.5049e-04 - val_acc: 0.0019 - val_recall: 1.0000\n",
            "Epoch 16/50\n",
            "182276/182276 [==============================] - 1s 7us/step - loss: 1.4771e-05 - acc: 0.0017 - recall: 1.0000 - val_loss: 3.2764e-04 - val_acc: 0.0019 - val_recall: 1.0000\n",
            "Epoch 17/50\n",
            "182276/182276 [==============================] - 1s 7us/step - loss: 1.2913e-05 - acc: 0.0017 - recall: 1.0000 - val_loss: 3.0864e-04 - val_acc: 0.0019 - val_recall: 1.0000\n",
            "Epoch 18/50\n",
            "182276/182276 [==============================] - 1s 7us/step - loss: 1.1813e-05 - acc: 0.0017 - recall: 1.0000 - val_loss: 2.9196e-04 - val_acc: 0.0019 - val_recall: 1.0000\n",
            "Epoch 19/50\n",
            "182276/182276 [==============================] - 1s 7us/step - loss: 1.1970e-05 - acc: 0.0017 - recall: 1.0000 - val_loss: 2.7616e-04 - val_acc: 0.0019 - val_recall: 1.0000\n",
            "Epoch 20/50\n",
            "182276/182276 [==============================] - 1s 7us/step - loss: 9.8054e-06 - acc: 0.0017 - recall: 1.0000 - val_loss: 2.5959e-04 - val_acc: 0.0019 - val_recall: 1.0000\n",
            "Epoch 21/50\n",
            "182276/182276 [==============================] - 1s 7us/step - loss: 8.9533e-06 - acc: 0.0017 - recall: 1.0000 - val_loss: 2.4666e-04 - val_acc: 0.0019 - val_recall: 1.0000\n"
          ],
          "name": "stdout"
        },
        {
          "output_type": "execute_result",
          "data": {
            "text/plain": [
              "<keras.callbacks.History at 0x7f938dcd0da0>"
            ]
          },
          "metadata": {
            "tags": []
          },
          "execution_count": 13
        }
      ]
    },
    {
      "cell_type": "code",
      "metadata": {
        "id": "cRGMvkHTzN2n",
        "colab_type": "code",
        "outputId": "dc6789b1-f550-4e20-c088-a2d7bd5b9ddd",
        "colab": {
          "base_uri": "https://localhost:8080/",
          "height": 525
        }
      },
      "source": [
        "classifier = load_model(best_model_dir, custom_objects={\"recall_loss\":recall_loss, \"recall\":recall})\n",
        "y_pred = classifier.predict(x_test)\n",
        "y_pred = y_pred>=0.5\n",
        "print (\"precision: {:.2f}\".format(precision_score(y_test, y_pred)))\n",
        "print (\"recall: {:.2f}\".format(recall_score(y_test, y_pred)))\n",
        "print (\"f1 score: {:.2f}\".format(f1_score(y_test, y_pred)))\n",
        "print (\"\\n\")\n",
        "\n",
        "cm = confusion_matrix(y_test, y_pred)\n",
        "print (\"Confusion matrix:\\n\", cm)\n",
        "print (\"\\n\")\n",
        "\n",
        "fig, ax = plt.subplots(1, 2, figsize=(24,5))\n",
        "\n",
        "# annot: If True, write the data value in each cell\n",
        "sns.heatmap(cm, ax=ax[0], annot=True, cmap=plt.cm.copper)\n",
        "ax[0].set_title(\"Confusion Matrix\")\n",
        "ax[0].set_xlabel(\"Prediction\")\n",
        "ax[0].set_ylabel(\"Actual\")\n",
        "\n",
        "precision, recall, _ = precision_recall_curve(y_test, y_pred)\n",
        "ax[1].plot(recall, precision)\n",
        "ax[1].set_title(\"Precision-recall Curve\")\n",
        "ax[1].set_xlabel(\"Recall\")\n",
        "ax[1].set_ylabel(\"Precision\")\n",
        "plt.show()"
      ],
      "execution_count": 14,
      "outputs": [
        {
          "output_type": "stream",
          "text": [
            "precision: 0.00\n",
            "recall: 1.00\n",
            "f1 score: 0.00\n",
            "\n",
            "\n",
            "Confusion matrix:\n",
            " [[    0 56864]\n",
            " [    0    98]]\n",
            "\n",
            "\n"
          ],
          "name": "stdout"
        },
        {
          "output_type": "display_data",
          "data": {
            "image/png": "[encoded data removed]",
            "text/plain": [
              "<Figure size 1728x360 with 3 Axes>"
            ]
          },
          "metadata": {
            "tags": []
          }
        }
      ]
    },
    {
      "cell_type": "markdown",
      "metadata": {
        "id": "wQkLtm6QxBSi",
        "colab_type": "text"
      },
      "source": [
        "**Case 1.3 - ANN with f1-score and fl-loss undersampling (balanced data)**"
      ]
    },
    {
      "cell_type": "code",
      "metadata": {
        "id": "p-7Lx1nxxTg7",
        "colab_type": "code",
        "colab": {
          "base_uri": "https://localhost:8080/",
          "height": 153
        },
        "outputId": "9ccd1967-d086-4ab8-e6b3-95d82c6dadca"
      },
      "source": [
        "# Undersampling might result in loss of information\n",
        "# Monitor f1-score and select model with best f1-score\n",
        "# Training, validation and testing set have the same balanced distribution\n",
        "\n",
        "# Shuffle the data and select equal number of cases with class 0 and 1 respectively\n",
        "df_shuffled = df.sample(frac=1)\n",
        "df_reduced_fraud = df_shuffled[df_shuffled[\"Class\"]==1]\n",
        "df_reduced_nonfraud = df_shuffled[df_shuffled[\"Class\"]==0][:len(df_reduced_fraud)]\n",
        "df_reduced = pd.concat([df_reduced_fraud, df_reduced_nonfraud])\n",
        "print (\"Total sample size: {}\".format(len(df_shuffled)))\n",
        "print (\"Fraud case reduced sample size: {}\".format(len(df_reduced_fraud)))\n",
        "print (\"Non-fraud case reduced sample size: {}\".format(len(df_reduced_nonfraud)))\n",
        "print (\"Reduced sample size: {}\".format(len(df_reduced)), \"\\n\")\n",
        "\n",
        "x_reduced = df_reduced.iloc[:,:-1]\n",
        "y_reduced = df_reduced.iloc[:,-1]\n",
        "x_reduced_train, x_reduced_test, y_reduced_train, y_reduced_test = train_test_split(x_reduced, y_reduced, test_size=0.2, random_state=42)\n",
        "print (\"Percentage of cases with class 1 for training:{:.3f}\".format(np.sum(y_reduced_train==1)/len(y_reduced_train)))\n",
        "print (\"Percentage of cases with class 1 for testing:{:.3f}\".format(np.sum(y_reduced_test==1)/len(y_reduced_test)), \"\\n\")\n",
        "\n",
        "# Scale time and amount\n",
        "sc_time = RobustScaler()\n",
        "sc_time.fit(x_reduced_train.iloc[:,0:1])\n",
        "x_reduced_train.iloc[:,0:1] = sc_time.transform(x_reduced_train.iloc[:,0:1])\n",
        "x_reduced_test.iloc[:,0:1] = sc_time.transform(x_reduced_test.iloc[:,0:1])\n",
        "\n",
        "sc_amount = RobustScaler()\n",
        "sc_amount.fit(x_train.iloc[:,-1:])\n",
        "x_reduced_train.iloc[:,-1:] = sc_amount.transform(x_reduced_train.iloc[:,-1:])\n",
        "x_reduced_test.iloc[:,-1:]= sc_amount.transform(x_reduced_test.iloc[:,-1:])"
      ],
      "execution_count": 18,
      "outputs": [
        {
          "output_type": "stream",
          "text": [
            "Total sample size: 284807\n",
            "Fraud case reduced sample size: 492\n",
            "Non-fraud case reduced sample size: 492\n",
            "Reduced sample size: 984 \n",
            "\n",
            "Percentage of cases with class 1 for training:0.499\n",
            "Percentage of cases with class 1 for testing:0.503 \n",
            "\n"
          ],
          "name": "stdout"
        }
      ]
    },
    {
      "cell_type": "code",
      "metadata": {
        "id": "Fzlv6ZFmiYRo",
        "colab_type": "code",
        "outputId": "a5f847ed-3a76-48d0-dba4-6974df0e1ec5",
        "colab": {
          "base_uri": "https://localhost:8080/",
          "height": 969
        }
      },
      "source": [
        "def f1(y_true, y_pred):\n",
        "    y_pred = K.round(y_pred)\n",
        "    # Each row represents one observation with multiple classes\n",
        "    # Summation should be done along the column --> axis = 0\n",
        "    tp = K.sum(K.cast(y_true*y_pred, 'float'), axis=0)\n",
        "    fp = K.sum(K.cast((1-y_true)*y_pred, 'float'), axis=0)\n",
        "    fn = K.sum(K.cast(y_true*(1-y_pred), 'float'), axis=0)\n",
        "    p = tp/(tp+fp+K.epsilon())\n",
        "    r = tp/(tp+fn+K.epsilon())\n",
        "    f1 = 2*p*r/(p+r+K.epsilon())\n",
        "    f1 = tf.where(tf.is_nan(f1), tf.zeros_like(f1), f1)\n",
        "    return K.mean(f1)\n",
        "\n",
        "def f1_loss(y_true, y_pred):\n",
        "    tp = K.sum(K.cast(y_true*y_pred, 'float'), axis=0)\n",
        "    tn = K.sum(K.cast((1-y_true)*(1-y_pred), 'float'), axis=0)\n",
        "    fp = K.sum(K.cast((1-y_true)*y_pred, 'float'), axis=0)\n",
        "    fn = K.sum(K.cast(y_true*(1-y_pred), 'float'), axis=0)\n",
        "    p = tp / (tp + fp + K.epsilon())\n",
        "    r = tp / (tp + fn + K.epsilon())\n",
        "    f1 = 2*p*r / (p+r+K.epsilon())\n",
        "    f1 = tf.where(tf.is_nan(f1), tf.zeros_like(f1), f1)\n",
        "    return 1 - K.mean(f1)\n",
        "  \n",
        "input_size = x_train.shape[1]\n",
        "epochs = 50\n",
        "batch_size = 100\n",
        "best_model_dir = \"/content/drive/My Drive/Colab/Imbalanced Data/case1.3_credit_card_fraud_model.hdf5\"\n",
        "\n",
        "classifier = Sequential()\n",
        "classifier.add(Dense(10000, activation=\"relu\", input_shape=(input_size,)))\n",
        "classifier.add(Dense(1, activation=\"sigmoid\"))\n",
        "classifier.compile(optimizer=\"adam\", loss=[f1_loss], metrics=[\"accuracy\", f1])\n",
        "classifier.summary()\n",
        "\n",
        "checkpoint = ModelCheckpoint(best_model_dir, monitor=\"val_f1\", save_best_only=True, save_weights_only=False, mode=\"max\")\n",
        "earlystop = EarlyStopping(monitor=\"val_f1\", patience=20)\n",
        "callbacks_list = [checkpoint, earlystop]\n",
        "classifier.fit(x_reduced_train, y_reduced_train, validation_split=0.2, epochs=epochs, batch_size=batch_size, callbacks=callbacks_list, shuffle=True)"
      ],
      "execution_count": 17,
      "outputs": [
        {
          "output_type": "stream",
          "text": [
            "Model: \"sequential_5\"\n",
            "_________________________________________________________________\n",
            "Layer (type)                 Output Shape              Param #   \n",
            "=================================================================\n",
            "dense_9 (Dense)              (None, 10000)             310000    \n",
            "_________________________________________________________________\n",
            "dense_10 (Dense)             (None, 1)                 10001     \n",
            "=================================================================\n",
            "Total params: 320,001\n",
            "Trainable params: 320,001\n",
            "Non-trainable params: 0\n",
            "_________________________________________________________________\n",
            "Train on 629 samples, validate on 158 samples\n",
            "Epoch 1/50\n",
            "629/629 [==============================] - 1s 1ms/step - loss: 0.3032 - acc: 0.6900 - f1: 0.6460 - val_loss: 0.2372 - val_acc: 0.8038 - val_f1: 0.7920\n",
            "Epoch 2/50\n",
            "629/629 [==============================] - 0s 77us/step - loss: 0.1989 - acc: 0.8490 - f1: 0.8317 - val_loss: 0.1612 - val_acc: 0.8671 - val_f1: 0.8696\n",
            "Epoch 3/50\n",
            "629/629 [==============================] - 0s 76us/step - loss: 0.1418 - acc: 0.8903 - f1: 0.8828 - val_loss: 0.1124 - val_acc: 0.8987 - val_f1: 0.9049\n",
            "Epoch 4/50\n",
            "629/629 [==============================] - 0s 76us/step - loss: 0.1095 - acc: 0.9173 - f1: 0.9148 - val_loss: 0.1353 - val_acc: 0.8608 - val_f1: 0.8608\n",
            "Epoch 5/50\n",
            "629/629 [==============================] - 0s 70us/step - loss: 0.1137 - acc: 0.9014 - f1: 0.8923 - val_loss: 0.1078 - val_acc: 0.8924 - val_f1: 0.8944\n",
            "Epoch 6/50\n",
            "629/629 [==============================] - 0s 74us/step - loss: 0.0859 - acc: 0.9332 - f1: 0.9293 - val_loss: 0.0826 - val_acc: 0.9177 - val_f1: 0.9205\n",
            "Epoch 7/50\n",
            "629/629 [==============================] - 0s 72us/step - loss: 0.0698 - acc: 0.9459 - f1: 0.9413 - val_loss: 0.0945 - val_acc: 0.9114 - val_f1: 0.9124\n",
            "Epoch 8/50\n",
            "629/629 [==============================] - 0s 72us/step - loss: 0.0802 - acc: 0.9285 - f1: 0.9208 - val_loss: 0.0547 - val_acc: 0.9620 - val_f1: 0.9648\n",
            "Epoch 9/50\n",
            "629/629 [==============================] - 0s 72us/step - loss: 0.2046 - acc: 0.7647 - f1: 0.8008 - val_loss: 0.1982 - val_acc: 0.7405 - val_f1: 0.8034\n",
            "Epoch 10/50\n",
            "629/629 [==============================] - 0s 72us/step - loss: 0.2267 - acc: 0.7345 - f1: 0.7805 - val_loss: 0.1354 - val_acc: 0.8544 - val_f1: 0.8790\n",
            "Epoch 11/50\n",
            "629/629 [==============================] - 0s 71us/step - loss: 0.1039 - acc: 0.9046 - f1: 0.8975 - val_loss: 0.1279 - val_acc: 0.8797 - val_f1: 0.8761\n",
            "Epoch 12/50\n",
            "629/629 [==============================] - 0s 77us/step - loss: 0.1149 - acc: 0.8983 - f1: 0.8840 - val_loss: 0.1276 - val_acc: 0.8797 - val_f1: 0.8761\n",
            "Epoch 13/50\n",
            "629/629 [==============================] - 0s 76us/step - loss: 0.0947 - acc: 0.9157 - f1: 0.9074 - val_loss: 0.0915 - val_acc: 0.9114 - val_f1: 0.9124\n",
            "Epoch 14/50\n",
            "629/629 [==============================] - 0s 76us/step - loss: 0.0758 - acc: 0.9316 - f1: 0.9252 - val_loss: 0.0754 - val_acc: 0.9241 - val_f1: 0.9265\n",
            "Epoch 15/50\n",
            "629/629 [==============================] - 0s 79us/step - loss: 0.0652 - acc: 0.9428 - f1: 0.9404 - val_loss: 0.1107 - val_acc: 0.8671 - val_f1: 0.8886\n",
            "Epoch 16/50\n",
            "629/629 [==============================] - 0s 81us/step - loss: 0.0865 - acc: 0.9189 - f1: 0.9184 - val_loss: 0.1527 - val_acc: 0.8544 - val_f1: 0.8460\n",
            "Epoch 17/50\n",
            "629/629 [==============================] - 0s 74us/step - loss: 0.1250 - acc: 0.8919 - f1: 0.8748 - val_loss: 0.1966 - val_acc: 0.8228 - val_f1: 0.8059\n",
            "Epoch 18/50\n",
            "629/629 [==============================] - 0s 79us/step - loss: 0.1519 - acc: 0.8776 - f1: 0.8512 - val_loss: 0.1817 - val_acc: 0.8291 - val_f1: 0.8165\n",
            "Epoch 19/50\n",
            "629/629 [==============================] - 0s 82us/step - loss: 0.1312 - acc: 0.8887 - f1: 0.8720 - val_loss: 0.1659 - val_acc: 0.8418 - val_f1: 0.8324\n",
            "Epoch 20/50\n",
            "629/629 [==============================] - 0s 73us/step - loss: 0.1182 - acc: 0.8967 - f1: 0.8834 - val_loss: 0.1525 - val_acc: 0.8544 - val_f1: 0.8478\n",
            "Epoch 21/50\n",
            "629/629 [==============================] - 0s 69us/step - loss: 0.1106 - acc: 0.9046 - f1: 0.8897 - val_loss: 0.1331 - val_acc: 0.8671 - val_f1: 0.8663\n"
          ],
          "name": "stdout"
        },
        {
          "output_type": "execute_result",
          "data": {
            "text/plain": [
              "<keras.callbacks.History at 0x7f938d1f6908>"
            ]
          },
          "metadata": {
            "tags": []
          },
          "execution_count": 17
        }
      ]
    },
    {
      "cell_type": "code",
      "metadata": {
        "id": "mpgZV2pKjFzx",
        "colab_type": "code",
        "outputId": "5ba0d975-afce-4205-f77f-eff8ea9b4572",
        "colab": {
          "base_uri": "https://localhost:8080/",
          "height": 525
        }
      },
      "source": [
        "classifier = load_model(best_model_dir, custom_objects={\"f1_loss\":f1_loss, \"f1\":f1})\n",
        "y_pred = classifier.predict(x_reduced_test)\n",
        "y_pred = y_pred>=0.5\n",
        "print (\"precision: {:.2f}\".format(precision_score(y_reduced_test, y_pred)))\n",
        "print (\"recall: {:.2f}\".format(recall_score(y_reduced_test, y_pred)))\n",
        "print (\"f1 score: {:.2f}\".format(f1_score(y_reduced_test, y_pred)))\n",
        "print (\"\\n\")\n",
        "\n",
        "cm = confusion_matrix(y_reduced_test, y_pred)\n",
        "print (\"Confusion matrix:\\n\", cm)\n",
        "print (\"\\n\")\n",
        "\n",
        "fig, ax = plt.subplots(1, 2, figsize=(24,5))\n",
        "\n",
        "# annot: If True, write the data value in each cell\n",
        "sns.heatmap(cm, ax=ax[0], annot=True, cmap=plt.cm.copper)\n",
        "ax[0].set_title(\"Confusion Matrix\")\n",
        "ax[0].set_xlabel(\"Prediction\")\n",
        "ax[0].set_ylabel(\"Actual\")\n",
        "\n",
        "precision, recall, _ = precision_recall_curve(y_reduced_test, y_pred)\n",
        "ax[1].plot(recall, precision)\n",
        "ax[1].set_title(\"Precision-recall Curve\")\n",
        "ax[1].set_xlabel(\"Recall\")\n",
        "ax[1].set_ylabel(\"Precision\")\n",
        "plt.show()"
      ],
      "execution_count": 19,
      "outputs": [
        {
          "output_type": "stream",
          "text": [
            "precision: 0.93\n",
            "recall: 0.96\n",
            "f1 score: 0.95\n",
            "\n",
            "\n",
            "Confusion matrix:\n",
            " [[91  7]\n",
            " [ 4 95]]\n",
            "\n",
            "\n"
          ],
          "name": "stdout"
        },
        {
          "output_type": "display_data",
          "data": {
            "image/png": "[encoded data removed]",
            "text/plain": [
              "<Figure size 1728x360 with 3 Axes>"
            ]
          },
          "metadata": {
            "tags": []
          }
        }
      ]
    },
    {
      "cell_type": "markdown",
      "metadata": {
        "id": "tELIEKXZxkbC",
        "colab_type": "text"
      },
      "source": [
        "**Case 1.4 - ANN with wrong SMOTE (imbalanced testing, balanced training)**"
      ]
    },
    {
      "cell_type": "code",
      "metadata": {
        "id": "FzlQLn7WjexV",
        "colab_type": "code",
        "outputId": "da0f6897-9f12-4f5c-b151-9a9a3ba58141",
        "colab": {
          "base_uri": "https://localhost:8080/",
          "height": 986
        }
      },
      "source": [
        "# SMOTE is applied before cross validation\n",
        "# Data is leaked to validation set, resulting in overfitting (validation_accuracy is high)\n",
        "# Covariate shift - Training, validation have the same but different distribution from testing set\n",
        "\n",
        "# Oversampling minority class using SMOTE and training set is used for validation during training\n",
        "smote = SMOTE(sampling_strategy=\"minority\", random_state=42)\n",
        "x_train_smote, y_train_smote = smote.fit_sample(x_train, y_train)\n",
        "print (\"Percentage of cases with class 1 for training:{:.4f}\".format(np.sum(y_train_smote==1)/len(y_train_smote)))\n",
        "print (\"Percentage of cases with class 1 for testing:{:.4f}\".format(np.sum(y_test==1)/len(y_test)), \"\\n\")\n",
        "       \n",
        "input_size = x_train_smote.shape[1]\n",
        "epochs = 20\n",
        "batch_size = 10000\n",
        "best_model_dir = \"/content/drive/My Drive/Colab/Imbalanced Data/case1.4_credit_card_fraud_model.hdf5\"\n",
        "\n",
        "classifier = Sequential()\n",
        "classifier.add(Dense(10000, activation=\"relu\", input_shape=(input_size,)))\n",
        "classifier.add(Dense(1, activation=\"sigmoid\"))\n",
        "classifier.compile(optimizer=\"adam\", loss=\"binary_crossentropy\", metrics=[\"accuracy\"])\n",
        "classifier.summary()\n",
        "\n",
        "# Note that oversampled training set is split for validation and result in data leakage and overfitting\n",
        "# Note the high validation accuracy\n",
        "checkpoint = ModelCheckpoint(best_model_dir, monitor=\"val_loss\", save_best_only=True, save_weights_only=False)\n",
        "earlystop = EarlyStopping(monitor=\"val_loss\", patience=5)\n",
        "callbacks_list = [checkpoint, earlystop]\n",
        "classifier.fit(x_train_smote, y_train_smote, validation_split=0.2, epochs=epochs, batch_size=batch_size, callbacks=callbacks_list, shuffle=True)"
      ],
      "execution_count": 22,
      "outputs": [
        {
          "output_type": "stream",
          "text": [
            "Percentage of cases with class 1 for training:0.5000\n",
            "Percentage of cases with class 1 for testing:0.0017 \n",
            "\n",
            "Model: \"sequential_8\"\n",
            "_________________________________________________________________\n",
            "Layer (type)                 Output Shape              Param #   \n",
            "=================================================================\n",
            "dense_15 (Dense)             (None, 10000)             310000    \n",
            "_________________________________________________________________\n",
            "dense_16 (Dense)             (None, 1)                 10001     \n",
            "=================================================================\n",
            "Total params: 320,001\n",
            "Trainable params: 320,001\n",
            "Non-trainable params: 0\n",
            "_________________________________________________________________\n",
            "Train on 363921 samples, validate on 90981 samples\n",
            "Epoch 1/20\n",
            "363921/363921 [==============================] - 3s 9us/step - loss: 0.1625 - acc: 0.9393 - val_loss: 0.1235 - val_acc: 0.9354\n",
            "Epoch 2/20\n",
            "363921/363921 [==============================] - 2s 7us/step - loss: 0.0623 - acc: 0.9751 - val_loss: 0.0763 - val_acc: 0.9639\n",
            "Epoch 3/20\n",
            "363921/363921 [==============================] - 2s 7us/step - loss: 0.0449 - acc: 0.9848 - val_loss: 0.0534 - val_acc: 0.9784\n",
            "Epoch 4/20\n",
            "363921/363921 [==============================] - 2s 7us/step - loss: 0.0333 - acc: 0.9893 - val_loss: 0.0371 - val_acc: 0.9875\n",
            "Epoch 5/20\n",
            "363921/363921 [==============================] - 2s 7us/step - loss: 0.0250 - acc: 0.9936 - val_loss: 0.0263 - val_acc: 0.9954\n",
            "Epoch 6/20\n",
            "363921/363921 [==============================] - 2s 7us/step - loss: 0.0193 - acc: 0.9959 - val_loss: 0.0188 - val_acc: 0.9984\n",
            "Epoch 7/20\n",
            "363921/363921 [==============================] - 2s 7us/step - loss: 0.0155 - acc: 0.9973 - val_loss: 0.0161 - val_acc: 0.9994\n",
            "Epoch 8/20\n",
            "363921/363921 [==============================] - 2s 7us/step - loss: 0.0129 - acc: 0.9979 - val_loss: 0.0119 - val_acc: 1.0000\n",
            "Epoch 9/20\n",
            "363921/363921 [==============================] - 2s 7us/step - loss: 0.0106 - acc: 0.9982 - val_loss: 0.0119 - val_acc: 0.9999\n",
            "Epoch 10/20\n",
            "363921/363921 [==============================] - 2s 7us/step - loss: 0.0091 - acc: 0.9985 - val_loss: 0.0098 - val_acc: 1.0000\n",
            "Epoch 11/20\n",
            "363921/363921 [==============================] - 2s 7us/step - loss: 0.0078 - acc: 0.9986 - val_loss: 0.0090 - val_acc: 1.0000\n",
            "Epoch 12/20\n",
            "363921/363921 [==============================] - 2s 7us/step - loss: 0.0070 - acc: 0.9988 - val_loss: 0.0078 - val_acc: 1.0000\n",
            "Epoch 13/20\n",
            "363921/363921 [==============================] - 2s 7us/step - loss: 0.0061 - acc: 0.9990 - val_loss: 0.0063 - val_acc: 1.0000\n",
            "Epoch 14/20\n",
            "363921/363921 [==============================] - 2s 7us/step - loss: 0.0055 - acc: 0.9991 - val_loss: 0.0056 - val_acc: 1.0000\n",
            "Epoch 15/20\n",
            "363921/363921 [==============================] - 2s 7us/step - loss: 0.0049 - acc: 0.9992 - val_loss: 0.0047 - val_acc: 1.0000\n",
            "Epoch 16/20\n",
            "363921/363921 [==============================] - 2s 7us/step - loss: 0.0046 - acc: 0.9992 - val_loss: 0.0040 - val_acc: 1.0000\n",
            "Epoch 17/20\n",
            "363921/363921 [==============================] - 2s 7us/step - loss: 0.0044 - acc: 0.9992 - val_loss: 0.0040 - val_acc: 1.0000\n",
            "Epoch 18/20\n",
            "363921/363921 [==============================] - 2s 7us/step - loss: 0.0046 - acc: 0.9993 - val_loss: 0.0036 - val_acc: 1.0000\n",
            "Epoch 19/20\n",
            "363921/363921 [==============================] - 2s 7us/step - loss: 0.0046 - acc: 0.9993 - val_loss: 0.0038 - val_acc: 1.0000\n",
            "Epoch 20/20\n",
            "363921/363921 [==============================] - 2s 7us/step - loss: 0.0034 - acc: 0.9994 - val_loss: 0.0035 - val_acc: 1.0000\n"
          ],
          "name": "stdout"
        },
        {
          "output_type": "execute_result",
          "data": {
            "text/plain": [
              "<keras.callbacks.History at 0x7f938bf70e48>"
            ]
          },
          "metadata": {
            "tags": []
          },
          "execution_count": 22
        }
      ]
    },
    {
      "cell_type": "code",
      "metadata": {
        "id": "l7yXYf3QV8cc",
        "colab_type": "code",
        "outputId": "d36b434c-1f19-470b-888a-57a1e14e74ef",
        "colab": {
          "base_uri": "https://localhost:8080/",
          "height": 525
        }
      },
      "source": [
        "classifier = load_model(best_model_dir)\n",
        "y_pred = classifier.predict(x_test)\n",
        "y_pred = y_pred>=0.5\n",
        "print (\"precision: {:.2f}\".format(precision_score(y_test, y_pred)))\n",
        "print (\"recall: {:.2f}\".format(recall_score(y_test, y_pred)))\n",
        "print (\"f1 score: {:.2f}\".format(f1_score(y_test, y_pred)))\n",
        "print (\"\\n\")\n",
        "\n",
        "cm = confusion_matrix(y_test, y_pred)\n",
        "print (\"Confusion matrix:\\n\", cm)\n",
        "print (\"\\n\")\n",
        "\n",
        "fig, ax = plt.subplots(1, 2, figsize=(24,5))\n",
        "\n",
        "# annot: If True, write the data value in each cell\n",
        "sns.heatmap(cm, ax=ax[0], annot=True, cmap=plt.cm.copper)\n",
        "ax[0].set_title(\"Confusion Matrix\")\n",
        "ax[0].set_xlabel(\"Prediction\")\n",
        "ax[0].set_ylabel(\"Actual\")\n",
        "\n",
        "precision, recall, _ = precision_recall_curve(y_test, y_pred)\n",
        "ax[1].plot(recall, precision)\n",
        "ax[1].set_title(\"Precision-recall Curve\")\n",
        "ax[1].set_xlabel(\"Recall\")\n",
        "ax[1].set_ylabel(\"Precision\")\n",
        "plt.show()"
      ],
      "execution_count": 23,
      "outputs": [
        {
          "output_type": "stream",
          "text": [
            "precision: 0.62\n",
            "recall: 0.85\n",
            "f1 score: 0.72\n",
            "\n",
            "\n",
            "Confusion matrix:\n",
            " [[56814    50]\n",
            " [   15    83]]\n",
            "\n",
            "\n"
          ],
          "name": "stdout"
        },
        {
          "output_type": "display_data",
          "data": {
            "image/png": "[encoded data removed]",
            "text/plain": [
              "<Figure size 1728x360 with 3 Axes>"
            ]
          },
          "metadata": {
            "tags": []
          }
        }
      ]
    },
    {
      "cell_type": "markdown",
      "metadata": {
        "id": "KUZ5B69ax85M",
        "colab_type": "text"
      },
      "source": [
        "**Case 1.5 - ANN with right SMOTE (imbalanced testing, balanced training)**"
      ]
    },
    {
      "cell_type": "code",
      "metadata": {
        "id": "kIYZgM2B-79m",
        "colab_type": "code",
        "outputId": "84f86119-9fa8-4e9c-f57f-04d7e5f84791",
        "colab": {
          "base_uri": "https://localhost:8080/",
          "height": 986
        }
      },
      "source": [
        "# SMOTE is applied to sub-training set to prevent data leakage\n",
        "# Covariate shift - Training, validation have the same but different distribution from testing set\n",
        "\n",
        "# Split training set into sub-training set for SMOTE and validation set to prevent data leakage\n",
        "x_subtrain, x_val, y_subtrain, y_val = train_test_split(x_train, y_train, test_size=0.2, random_state=42)\n",
        "\n",
        "# Oversampling minority class using SMOTE\n",
        "smote = SMOTE(sampling_strategy=\"minority\", random_state=42)\n",
        "x_subtrain_smote, y_subtrain_smote = smote.fit_sample(x_subtrain, y_subtrain)\n",
        "print (\"Percentage of cases with class 1 for training:{:.4f}\".format(np.sum(y_subtrain_smote==1)/len(y_subtrain_smote)))\n",
        "print (\"Percentage of cases with class 1 for testing:{:.4f}\".format(np.sum(y_test==1)/len(y_test)), \"\\n\")\n",
        "\n",
        "input_size = x_subtrain_smote.shape[1]\n",
        "epochs = 20\n",
        "batch_size = 10000\n",
        "best_model_dir = \"/content/drive/My Drive/Colab/Imbalanced Data/case1.5_credit_card_fraud_model.hdf5\"\n",
        "\n",
        "classifier = Sequential()\n",
        "classifier.add(Dense(10000, activation=\"relu\", input_shape=(input_size,)))\n",
        "classifier.add(Dense(1, activation=\"sigmoid\"))\n",
        "classifier.compile(optimizer=\"adam\", loss=\"binary_crossentropy\", metrics=[\"accuracy\"])\n",
        "classifier.summary()\n",
        "\n",
        "checkpoint = ModelCheckpoint(best_model_dir, monitor=\"val_loss\", save_best_only=True, save_weights_only=False)\n",
        "earlystop = EarlyStopping(monitor=\"val_loss\", patience=5)\n",
        "callbacks_list = [checkpoint, earlystop]\n",
        "classifier.fit(x_subtrain_smote, y_subtrain_smote, validation_data=(x_val, y_val), epochs=epochs, batch_size=batch_size, callbacks=callbacks_list, shuffle=True)"
      ],
      "execution_count": 24,
      "outputs": [
        {
          "output_type": "stream",
          "text": [
            "Percentage of cases with class 1 for training:0.5000\n",
            "Percentage of cases with class 1 for testing:0.0017 \n",
            "\n",
            "Model: \"sequential_9\"\n",
            "_________________________________________________________________\n",
            "Layer (type)                 Output Shape              Param #   \n",
            "=================================================================\n",
            "dense_17 (Dense)             (None, 10000)             310000    \n",
            "_________________________________________________________________\n",
            "dense_18 (Dense)             (None, 1)                 10001     \n",
            "=================================================================\n",
            "Total params: 320,001\n",
            "Trainable params: 320,001\n",
            "Non-trainable params: 0\n",
            "_________________________________________________________________\n",
            "Train on 363892 samples, validate on 45569 samples\n",
            "Epoch 1/20\n",
            "363892/363892 [==============================] - 3s 9us/step - loss: 0.1680 - acc: 0.9204 - val_loss: 0.0650 - val_acc: 0.9825\n",
            "Epoch 2/20\n",
            "363892/363892 [==============================] - 2s 7us/step - loss: 0.0642 - acc: 0.9762 - val_loss: 0.0497 - val_acc: 0.9855\n",
            "Epoch 3/20\n",
            "363892/363892 [==============================] - 2s 7us/step - loss: 0.0432 - acc: 0.9855 - val_loss: 0.0360 - val_acc: 0.9888\n",
            "Epoch 4/20\n",
            "363892/363892 [==============================] - 2s 6us/step - loss: 0.0303 - acc: 0.9928 - val_loss: 0.0268 - val_acc: 0.9919\n",
            "Epoch 5/20\n",
            "363892/363892 [==============================] - 2s 6us/step - loss: 0.0222 - acc: 0.9960 - val_loss: 0.0215 - val_acc: 0.9932\n",
            "Epoch 6/20\n",
            "363892/363892 [==============================] - 2s 6us/step - loss: 0.0170 - acc: 0.9969 - val_loss: 0.0166 - val_acc: 0.9946\n",
            "Epoch 7/20\n",
            "363892/363892 [==============================] - 2s 6us/step - loss: 0.0137 - acc: 0.9976 - val_loss: 0.0156 - val_acc: 0.9948\n",
            "Epoch 8/20\n",
            "363892/363892 [==============================] - 2s 6us/step - loss: 0.0114 - acc: 0.9980 - val_loss: 0.0146 - val_acc: 0.9951\n",
            "Epoch 9/20\n",
            "363892/363892 [==============================] - 2s 6us/step - loss: 0.0098 - acc: 0.9982 - val_loss: 0.0127 - val_acc: 0.9959\n",
            "Epoch 10/20\n",
            "363892/363892 [==============================] - 2s 6us/step - loss: 0.0085 - acc: 0.9985 - val_loss: 0.0105 - val_acc: 0.9968\n",
            "Epoch 11/20\n",
            "363892/363892 [==============================] - 2s 6us/step - loss: 0.0073 - acc: 0.9987 - val_loss: 0.0095 - val_acc: 0.9969\n",
            "Epoch 12/20\n",
            "363892/363892 [==============================] - 2s 7us/step - loss: 0.0063 - acc: 0.9988 - val_loss: 0.0087 - val_acc: 0.9973\n",
            "Epoch 13/20\n",
            "363892/363892 [==============================] - 2s 6us/step - loss: 0.0055 - acc: 0.9989 - val_loss: 0.0087 - val_acc: 0.9974\n",
            "Epoch 14/20\n",
            "363892/363892 [==============================] - 2s 6us/step - loss: 0.0049 - acc: 0.9991 - val_loss: 0.0075 - val_acc: 0.9977\n",
            "Epoch 15/20\n",
            "363892/363892 [==============================] - 2s 6us/step - loss: 0.0047 - acc: 0.9992 - val_loss: 0.0079 - val_acc: 0.9977\n",
            "Epoch 16/20\n",
            "363892/363892 [==============================] - 2s 7us/step - loss: 0.0042 - acc: 0.9992 - val_loss: 0.0077 - val_acc: 0.9976\n",
            "Epoch 17/20\n",
            "363892/363892 [==============================] - 2s 7us/step - loss: 0.0039 - acc: 0.9993 - val_loss: 0.0074 - val_acc: 0.9979\n",
            "Epoch 18/20\n",
            "363892/363892 [==============================] - 2s 7us/step - loss: 0.0036 - acc: 0.9994 - val_loss: 0.0065 - val_acc: 0.9982\n",
            "Epoch 19/20\n",
            "363892/363892 [==============================] - 2s 6us/step - loss: 0.0034 - acc: 0.9994 - val_loss: 0.0068 - val_acc: 0.9982\n",
            "Epoch 20/20\n",
            "363892/363892 [==============================] - 2s 6us/step - loss: 0.0031 - acc: 0.9994 - val_loss: 0.0070 - val_acc: 0.9981\n"
          ],
          "name": "stdout"
        },
        {
          "output_type": "execute_result",
          "data": {
            "text/plain": [
              "<keras.callbacks.History at 0x7f938b7e4e80>"
            ]
          },
          "metadata": {
            "tags": []
          },
          "execution_count": 24
        }
      ]
    },
    {
      "cell_type": "code",
      "metadata": {
        "id": "7T84aQqrEZEY",
        "colab_type": "code",
        "outputId": "335d204c-c373-4832-eb36-60e9e6da4022",
        "colab": {
          "base_uri": "https://localhost:8080/",
          "height": 525
        }
      },
      "source": [
        "classifier = load_model(best_model_dir)\n",
        "y_pred = classifier.predict(x_test)\n",
        "y_pred = y_pred>=0.5\n",
        "print (\"precision: {:.2f}\".format(precision_score(y_test, y_pred)))\n",
        "print (\"recall: {:.2f}\".format(recall_score(y_test, y_pred)))\n",
        "print (\"f1 score: {:.2f}\".format(f1_score(y_test, y_pred)))\n",
        "print (\"\\n\")\n",
        "\n",
        "cm = confusion_matrix(y_test, y_pred)\n",
        "print (\"Confusion matrix:\\n\", cm)\n",
        "print (\"\\n\")\n",
        "\n",
        "fig, ax = plt.subplots(1, 2, figsize=(24,5))\n",
        "\n",
        "# annot: If True, write the data value in each cell\n",
        "sns.heatmap(cm, ax=ax[0], annot=True, cmap=plt.cm.copper)\n",
        "ax[0].set_title(\"Confusion Matrix\")\n",
        "ax[0].set_xlabel(\"Prediction\")\n",
        "ax[0].set_ylabel(\"Actual\")\n",
        "\n",
        "precision, recall, _ = precision_recall_curve(y_test, y_pred)\n",
        "ax[1].plot(recall, precision)\n",
        "ax[1].set_title(\"Precision-recall Curve\")\n",
        "ax[1].set_xlabel(\"Recall\")\n",
        "ax[1].set_ylabel(\"Precision\")\n",
        "plt.show()"
      ],
      "execution_count": 25,
      "outputs": [
        {
          "output_type": "stream",
          "text": [
            "precision: 0.53\n",
            "recall: 0.86\n",
            "f1 score: 0.66\n",
            "\n",
            "\n",
            "Confusion matrix:\n",
            " [[56790    74]\n",
            " [   14    84]]\n",
            "\n",
            "\n"
          ],
          "name": "stdout"
        },
        {
          "output_type": "display_data",
          "data": {
            "image/png": "[encoded data removed]",
            "text/plain": [
              "<Figure size 1728x360 with 3 Axes>"
            ]
          },
          "metadata": {
            "tags": []
          }
        }
      ]
    },
    {
      "cell_type": "markdown",
      "metadata": {
        "id": "-dN8QlULyK1j",
        "colab_type": "text"
      },
      "source": [
        "**Case 1.6 - ANN with class weight (imbalanced data)**"
      ]
    },
    {
      "cell_type": "code",
      "metadata": {
        "id": "tj_4AARfUNW3",
        "colab_type": "code",
        "outputId": "74f76f25-d8d9-47e2-bb36-1bcf53cdef7b",
        "colab": {
          "base_uri": "https://localhost:8080/",
          "height": 935
        }
      },
      "source": [
        "# Training, validation and testing set have the same imbalanced distribution\n",
        "\n",
        "input_size = x_train.shape[1]\n",
        "epochs = 20\n",
        "batch_size = 10000\n",
        "best_model_dir = \"/content/drive/My Drive/Colab/Imbalanced Data/case1.6_credit_card_fraud_model.hdf5\"\n",
        "\n",
        "classifier = Sequential()\n",
        "classifier.add(Dense(10000, activation=\"relu\", input_shape=(input_size,)))\n",
        "classifier.add(Dense(1, activation=\"sigmoid\"))\n",
        "classifier.compile(optimizer=\"adam\", loss=\"binary_crossentropy\", metrics=[\"accuracy\"])\n",
        "classifier.summary()\n",
        "\n",
        "class_weight = class_weight.compute_class_weight(\"balanced\", np.unique(y_train), y_train)\n",
        "checkpoint = ModelCheckpoint(best_model_dir, monitor=\"val_loss\", save_best_only=True, save_weights_only=False)\n",
        "earlystop = EarlyStopping(monitor=\"val_loss\", patience=5)\n",
        "callbacks_list = [checkpoint, earlystop]\n",
        "classifier.fit(x_train, y_train, validation_split=0.2, epochs=epochs, batch_size=batch_size, callbacks=callbacks_list, shuffle=True, class_weight=class_weight)"
      ],
      "execution_count": 26,
      "outputs": [
        {
          "output_type": "stream",
          "text": [
            "Model: \"sequential_10\"\n",
            "_________________________________________________________________\n",
            "Layer (type)                 Output Shape              Param #   \n",
            "=================================================================\n",
            "dense_19 (Dense)             (None, 10000)             310000    \n",
            "_________________________________________________________________\n",
            "dense_20 (Dense)             (None, 1)                 10001     \n",
            "=================================================================\n",
            "Total params: 320,001\n",
            "Trainable params: 320,001\n",
            "Non-trainable params: 0\n",
            "_________________________________________________________________\n",
            "Train on 182276 samples, validate on 45569 samples\n",
            "Epoch 1/20\n",
            "182276/182276 [==============================] - 2s 13us/step - loss: 0.1142 - acc: 0.9688 - val_loss: 0.0071 - val_acc: 0.9991\n",
            "Epoch 2/20\n",
            "182276/182276 [==============================] - 1s 7us/step - loss: 0.0056 - acc: 0.9993 - val_loss: 0.0048 - val_acc: 0.9993\n",
            "Epoch 3/20\n",
            "182276/182276 [==============================] - 1s 7us/step - loss: 0.0044 - acc: 0.9994 - val_loss: 0.0038 - val_acc: 0.9993\n",
            "Epoch 4/20\n",
            "182276/182276 [==============================] - 1s 7us/step - loss: 0.0038 - acc: 0.9994 - val_loss: 0.0036 - val_acc: 0.9993\n",
            "Epoch 5/20\n",
            "182276/182276 [==============================] - 1s 7us/step - loss: 0.0036 - acc: 0.9994 - val_loss: 0.0031 - val_acc: 0.9993\n",
            "Epoch 6/20\n",
            "182276/182276 [==============================] - 1s 7us/step - loss: 0.0034 - acc: 0.9994 - val_loss: 0.0030 - val_acc: 0.9994\n",
            "Epoch 7/20\n",
            "182276/182276 [==============================] - 1s 7us/step - loss: 0.0032 - acc: 0.9994 - val_loss: 0.0028 - val_acc: 0.9994\n",
            "Epoch 8/20\n",
            "182276/182276 [==============================] - 1s 7us/step - loss: 0.0030 - acc: 0.9994 - val_loss: 0.0028 - val_acc: 0.9994\n",
            "Epoch 9/20\n",
            "182276/182276 [==============================] - 1s 7us/step - loss: 0.0029 - acc: 0.9995 - val_loss: 0.0026 - val_acc: 0.9994\n",
            "Epoch 10/20\n",
            "182276/182276 [==============================] - 1s 7us/step - loss: 0.0028 - acc: 0.9994 - val_loss: 0.0025 - val_acc: 0.9994\n",
            "Epoch 11/20\n",
            "182276/182276 [==============================] - 1s 7us/step - loss: 0.0027 - acc: 0.9994 - val_loss: 0.0026 - val_acc: 0.9994\n",
            "Epoch 12/20\n",
            "182276/182276 [==============================] - 1s 7us/step - loss: 0.0026 - acc: 0.9995 - val_loss: 0.0025 - val_acc: 0.9995\n",
            "Epoch 13/20\n",
            "182276/182276 [==============================] - 1s 7us/step - loss: 0.0026 - acc: 0.9995 - val_loss: 0.0025 - val_acc: 0.9994\n",
            "Epoch 14/20\n",
            "182276/182276 [==============================] - 1s 7us/step - loss: 0.0025 - acc: 0.9995 - val_loss: 0.0024 - val_acc: 0.9995\n",
            "Epoch 15/20\n",
            "182276/182276 [==============================] - 1s 7us/step - loss: 0.0025 - acc: 0.9995 - val_loss: 0.0025 - val_acc: 0.9994\n",
            "Epoch 16/20\n",
            "182276/182276 [==============================] - 1s 7us/step - loss: 0.0025 - acc: 0.9995 - val_loss: 0.0026 - val_acc: 0.9994\n",
            "Epoch 17/20\n",
            "182276/182276 [==============================] - 1s 7us/step - loss: 0.0024 - acc: 0.9995 - val_loss: 0.0024 - val_acc: 0.9994\n",
            "Epoch 18/20\n",
            "182276/182276 [==============================] - 1s 7us/step - loss: 0.0024 - acc: 0.9995 - val_loss: 0.0026 - val_acc: 0.9994\n",
            "Epoch 19/20\n",
            "182276/182276 [==============================] - 1s 7us/step - loss: 0.0024 - acc: 0.9995 - val_loss: 0.0023 - val_acc: 0.9995\n",
            "Epoch 20/20\n",
            "182276/182276 [==============================] - 1s 7us/step - loss: 0.0023 - acc: 0.9995 - val_loss: 0.0024 - val_acc: 0.9994\n"
          ],
          "name": "stdout"
        },
        {
          "output_type": "execute_result",
          "data": {
            "text/plain": [
              "<keras.callbacks.History at 0x7f938b838748>"
            ]
          },
          "metadata": {
            "tags": []
          },
          "execution_count": 26
        }
      ]
    },
    {
      "cell_type": "code",
      "metadata": {
        "id": "NdybT6rvUaNv",
        "colab_type": "code",
        "outputId": "6e590098-64e6-47f3-dd95-a00a936853f4",
        "colab": {
          "base_uri": "https://localhost:8080/",
          "height": 525
        }
      },
      "source": [
        "classifier = load_model(best_model_dir)\n",
        "y_pred = classifier.predict(x_test)\n",
        "y_pred = y_pred>=0.5\n",
        "print (\"precision: {:.2f}\".format(precision_score(y_test, y_pred)))\n",
        "print (\"recall: {:.2f}\".format(recall_score(y_test, y_pred)))\n",
        "print (\"f1 score: {:.2f}\".format(f1_score(y_test, y_pred)))\n",
        "print (\"\\n\")\n",
        "\n",
        "cm = confusion_matrix(y_test, y_pred)\n",
        "print (\"Confusion matrix:\\n\", cm)\n",
        "print (\"\\n\")\n",
        "\n",
        "fig, ax = plt.subplots(1, 2, figsize=(24,5))\n",
        "\n",
        "# annot: If True, write the data value in each cell\n",
        "sns.heatmap(cm, ax=ax[0], annot=True, cmap=plt.cm.copper)\n",
        "ax[0].set_title(\"Confusion Matrix\")\n",
        "ax[0].set_xlabel(\"Prediction\")\n",
        "ax[0].set_ylabel(\"Actual\")\n",
        "\n",
        "precision, recall, _ = precision_recall_curve(y_test, y_pred)\n",
        "ax[1].plot(recall, precision)\n",
        "ax[1].set_title(\"Precision-recall Curve\")\n",
        "ax[1].set_xlabel(\"Recall\")\n",
        "ax[1].set_ylabel(\"Precision\")\n",
        "plt.show()"
      ],
      "execution_count": 27,
      "outputs": [
        {
          "output_type": "stream",
          "text": [
            "precision: 0.92\n",
            "recall: 0.78\n",
            "f1 score: 0.84\n",
            "\n",
            "\n",
            "Confusion matrix:\n",
            " [[56857     7]\n",
            " [   22    76]]\n",
            "\n",
            "\n"
          ],
          "name": "stdout"
        },
        {
          "output_type": "display_data",
          "data": {
            "image/png": "[encoded data removed]",
            "text/plain": [
              "<Figure size 1728x360 with 3 Axes>"
            ]
          },
          "metadata": {
            "tags": []
          }
        }
      ]
    },
    {
      "cell_type": "markdown",
      "metadata": {
        "id": "_NO3UQJ3jGep",
        "colab_type": "text"
      },
      "source": [
        "# **Case 2 - Random Forest (Gradient Boosting)**\n",
        "\n",
        "1.   Random forest is built on the basis of decision tree. Decision tree is constructed of root, decision, leaf/terminal node. The node is split whenever there is reduction in gini impurity and entropy (categorical feature data)/ mean square error (numerical data). \n",
        "2.   For categorical feature data, the best split is decided selecting the categorical feature with lowest gini impurity.\n",
        "1.   For numerical feature data, the threshold will be decided first for each numerical feature data by testing out all the available value. Value returning lowerst mean square error is selected as the threshold. The best split is then decided comparing the mean square error of respective numerical feature data with the best threshold value.\n",
        "2.   For categorical output, the output will be the value run down the tree. For numerical output, the output will be the average value of those observation in that particular leaf/ terminal node. Since it is the average value, the prediction is inaccurate for output value lies at the end of the distribution.\n",
        "1.   Random forest is ensemble bagging method, gradient boosting is ensemble boosting method (but build on the basis of random forest).\n",
        "2.   Random forest has full grown trees (low bias high variance(overfitting)) and decision is made based on voting. Each tree is grown in parallel independent of each other using the bootstrapped data. Thus, random forest has minimum impact to imbalanced data.\n",
        "1.   Gradient boosting has restricted size tree (high bias low variance) using the entire dataset and it is sequentially growing. It starts with a leaf node with average value of output for numerical data or log(adds) for categorical data. Residual is found by substrating the initial value with actual value. The subsequent tree is built to find the residual. The output will be the initial value + learning rate*value run down the tree.\n",
        "1.   Random forest is independent of feature scaling since the gini impurity or mean square error for one particular feature is calculated irrespectively of value of other feature\n",
        "1.   4 cases:\n",
        "  * Default - RF (Imbalanced data)\n",
        "  * Case 2.1 - Gradient Boosting (Imbalanced data)\n",
        "  * Case 2.2 - Gradient Boosting with hyperparameter tuned (Imbalanced data) \n",
        "  * Case 2.3 - Extreme Gradient Boosting with Gradient Boosting hyperparameter and imbalanced data \n",
        "1.   Summary:\n",
        "  * Random forest is a good machine learning method to counter imbalanced data. \n",
        "  * With additive training/ sequential growing method, gradient boosting/ XGBoost is able to avchieve high f1-score. With regularization loss, XGBoost achieve the highest f1-score\n",
        "\n",
        "\n",
        "\n",
        "\n"
      ]
    },
    {
      "cell_type": "code",
      "metadata": {
        "id": "VqXfUtfijGAA",
        "colab_type": "code",
        "outputId": "c921fe5c-45d6-488c-a321-2f5aa2cbb90d",
        "colab": {
          "base_uri": "https://localhost:8080/",
          "height": 51
        }
      },
      "source": [
        "x = df.iloc[:,:-1]\n",
        "y = df.iloc[:,-1]\n",
        "x_train, x_test, y_train, y_test = train_test_split(x, y, test_size=0.2, random_state=42)\n",
        "print (\"Training - fraud case: {:.2f}%\".format(np.sum(y_train==1)/len(y_train)*100))\n",
        "print (\"Testing - fraud case: {:.2f}%\".format(np.sum(y_test==1)/len(y_test)*100))"
      ],
      "execution_count": 28,
      "outputs": [
        {
          "output_type": "stream",
          "text": [
            "Training - fraud case: 0.17%\n",
            "Testing - fraud case: 0.17%\n"
          ],
          "name": "stdout"
        }
      ]
    },
    {
      "cell_type": "markdown",
      "metadata": {
        "id": "H9_L8XRrzQ9c",
        "colab_type": "text"
      },
      "source": [
        "**Default - RF with imbalanced data**"
      ]
    },
    {
      "cell_type": "code",
      "metadata": {
        "id": "ccBugLULnMkM",
        "colab_type": "code",
        "outputId": "538ce2a7-7009-45d6-9ee4-cd2bb1f0ea8c",
        "colab": {
          "base_uri": "https://localhost:8080/",
          "height": 525
        }
      },
      "source": [
        "classifier = RandomForestClassifier(n_estimators=10, bootstrap=False)\n",
        "classifier.fit(x_train, y_train)\n",
        "\n",
        "y_pred = classifier.predict(x_test)\n",
        "print (\"precision: {:.2f}\".format(precision_score(y_test, y_pred)))\n",
        "print (\"recall: {:.2f}\".format(recall_score(y_test, y_pred)))\n",
        "print (\"f1 score: {:.2f}\".format(f1_score(y_test, y_pred)))\n",
        "print (\"\\n\")\n",
        "\n",
        "cm = confusion_matrix(y_test, y_pred)\n",
        "print (\"Confusion matrix:\\n\", cm)\n",
        "print (\"\\n\")\n",
        "\n",
        "fig, ax = plt.subplots(1, 2, figsize=(24,5))\n",
        "\n",
        "# annot: If True, write the data value in each cell\n",
        "sns.heatmap(cm, ax=ax[0], annot=True, cmap=plt.cm.copper)\n",
        "ax[0].set_title(\"Confusion Matrix\")\n",
        "ax[0].set_xlabel(\"Prediction\")\n",
        "ax[0].set_ylabel(\"Actual\")\n",
        "\n",
        "precision, recall, _ = precision_recall_curve(y_test, y_pred)\n",
        "ax[1].plot(recall, precision)\n",
        "ax[1].set_title(\"Precision-recall Curve\")\n",
        "ax[1].set_xlabel(\"Recall\")\n",
        "ax[1].set_ylabel(\"Precision\")\n",
        "plt.show()"
      ],
      "execution_count": 29,
      "outputs": [
        {
          "output_type": "stream",
          "text": [
            "precision: 0.95\n",
            "recall: 0.78\n",
            "f1 score: 0.85\n",
            "\n",
            "\n",
            "Confusion matrix:\n",
            " [[56860     4]\n",
            " [   22    76]]\n",
            "\n",
            "\n"
          ],
          "name": "stdout"
        },
        {
          "output_type": "display_data",
          "data": {
            "image/png": "[encoded data removed]",
            "text/plain": [
              "<Figure size 1728x360 with 3 Axes>"
            ]
          },
          "metadata": {
            "tags": []
          }
        }
      ]
    },
    {
      "cell_type": "markdown",
      "metadata": {
        "id": "iCK3RrHBza5F",
        "colab_type": "text"
      },
      "source": [
        "**Case 2.1 - Gradient Boosting with imbalanced data**"
      ]
    },
    {
      "cell_type": "code",
      "metadata": {
        "id": "F7aPlHBEn57L",
        "colab_type": "code",
        "outputId": "f2552706-1ce6-4eed-c664-7a98a87c66e4",
        "colab": {
          "base_uri": "https://localhost:8080/",
          "height": 525
        }
      },
      "source": [
        "classifier = GradientBoostingClassifier(n_estimators=10, max_depth=5)\n",
        "classifier.fit(x_train, y_train)\n",
        "\n",
        "y_pred = classifier.predict(x_test)\n",
        "print (\"precision: {:.2f}\".format(precision_score(y_test, y_pred)))\n",
        "print (\"recall: {:.2f}\".format(recall_score(y_test, y_pred)))\n",
        "print (\"f1 score: {:.2f}\".format(f1_score(y_test, y_pred)))\n",
        "print (\"\\n\")\n",
        "\n",
        "cm = confusion_matrix(y_test, y_pred)\n",
        "print (\"Confusion matrix:\\n\", cm)\n",
        "print (\"\\n\")\n",
        "\n",
        "fig, ax = plt.subplots(1, 2, figsize=(24,5))\n",
        "\n",
        "# annot: If True, write the data value in each cell\n",
        "sns.heatmap(cm, ax=ax[0], annot=True, cmap=plt.cm.copper)\n",
        "ax[0].set_title(\"Confusion Matrix\")\n",
        "ax[0].set_xlabel(\"Prediction\")\n",
        "ax[0].set_ylabel(\"Actual\")\n",
        "\n",
        "precision, recall, _ = precision_recall_curve(y_test, y_pred)\n",
        "ax[1].plot(recall, precision)\n",
        "ax[1].set_title(\"Precision-recall Curve\")\n",
        "ax[1].set_xlabel(\"Recall\")\n",
        "ax[1].set_ylabel(\"Precision\")\n",
        "plt.show()"
      ],
      "execution_count": 30,
      "outputs": [
        {
          "output_type": "stream",
          "text": [
            "precision: 0.83\n",
            "recall: 0.81\n",
            "f1 score: 0.82\n",
            "\n",
            "\n",
            "Confusion matrix:\n",
            " [[56848    16]\n",
            " [   19    79]]\n",
            "\n",
            "\n"
          ],
          "name": "stdout"
        },
        {
          "output_type": "display_data",
          "data": {
            "image/png": "[encoded data removed]",
            "text/plain": [
              "<Figure size 1728x360 with 3 Axes>"
            ]
          },
          "metadata": {
            "tags": []
          }
        }
      ]
    },
    {
      "cell_type": "markdown",
      "metadata": {
        "id": "WDxINK8Azgs4",
        "colab_type": "text"
      },
      "source": [
        "**Case 2.2 - Gradient Boosting with hyperparameter tuned and imbalanced data**"
      ]
    },
    {
      "cell_type": "code",
      "metadata": {
        "id": "ouVNgjK2pHVv",
        "colab_type": "code",
        "colab": {}
      },
      "source": [
        "classifier = GradientBoostingClassifier()\n",
        "  \n",
        "parameter = {\"learning_rate\":[0.001, 0.01, 0.1],\n",
        "             \"n_estimators\":[10, 50, 100, 200],\n",
        "             \"min_samples_leaf\":[1, 2, 5],\n",
        "             \"max_depth\":[3, 5, 10]}\n",
        "\n",
        "# scoring option for gridsearchcv\n",
        "# https://scikit-learn.org/stable/modules/model_evaluation.html\n",
        "# f1 - binary, f1_micro, f1_macro, f1_weighted - multiple classes\n",
        "grid_search = GridSearchCV(estimator=classifier, param_grid=parameter, cv=5, scoring=\"f1\")\n",
        "grid_search.fit(x_train, y_train)\n",
        "\n",
        "classifier = grid_search.best_estimator_\n",
        "\n",
        "y_pred = classifier.predict(x_test)\n",
        "print (\"precision: {:.2f}\".format(precision_score(y_test, y_pred)))\n",
        "print (\"recall: {:.2f}\".format(recall_score(y_test, y_pred)))\n",
        "print (\"f1 score: {:.2f}\".format(f1_score(y_test, y_pred)))\n",
        "print (\"\\n\")\n",
        "\n",
        "cm = confusion_matrix(y_test, y_pred)\n",
        "print (\"Confusion matrix:\\n\", cm)\n",
        "print (\"\\n\")\n",
        "\n",
        "fig, ax = plt.subplots(1, 2, figsize=(24,5))\n",
        "\n",
        "# annot: If True, write the data value in each cell\n",
        "sns.heatmap(cm, ax=ax[0], annot=True, cmap=plt.cm.copper)\n",
        "ax[0].set_title(\"Confusion Matrix\")\n",
        "ax[0].set_xlabel(\"Prediction\")\n",
        "ax[0].set_ylabel(\"Actual\")\n",
        "\n",
        "precision, recall, _ = precision_recall_curve(y_test, y_pred)\n",
        "ax[1].plot(recall, precision)\n",
        "ax[1].set_title(\"Precision-recall Curve\")\n",
        "ax[1].set_xlabel(\"Recall\")\n",
        "ax[1].set_ylabel(\"Precision\")\n",
        "plt.show()"
      ],
      "execution_count": 0,
      "outputs": []
    },
    {
      "cell_type": "code",
      "metadata": {
        "colab_type": "code",
        "outputId": "6ccb8203-7dec-4658-dbb5-06bc67369716",
        "id": "1y7T1SuZyzNb",
        "colab": {
          "base_uri": "https://localhost:8080/",
          "height": 519
        }
      },
      "source": [
        "classifier = GradientBoostingClassifier(n_estimators=100, learning_rate=0.01, max_depth=5)\n",
        "classifier.fit(x_train, y_train)\n",
        "\n",
        "y_pred = classifier.predict(x_test)\n",
        "print (\"precision: {:.2f}\".format(precision_score(y_test, y_pred)))\n",
        "print (\"recall: {:.2f}\".format(recall_score(y_test, y_pred)))\n",
        "print (\"f1 score: {:.2f}\".format(f1_score(y_test, y_pred)))\n",
        "print (\"\\n\")\n",
        "\n",
        "cm = confusion_matrix(y_test, y_pred)\n",
        "print (\"Confusion matrix:\\n\", cm)\n",
        "print (\"\\n\")\n",
        "\n",
        "fig, ax = plt.subplots(1, 2, figsize=(24,5))\n",
        "\n",
        "# annot: If True, write the data value in each cell\n",
        "sns.heatmap(cm, ax=ax[0], annot=True, cmap=plt.cm.copper)\n",
        "ax[0].set_title(\"Confusion Matrix\")\n",
        "ax[0].set_xlabel(\"Prediction\")\n",
        "ax[0].set_ylabel(\"Actual\")\n",
        "\n",
        "precision, recall, _ = precision_recall_curve(y_test, y_pred)\n",
        "ax[1].plot(recall, precision)\n",
        "ax[1].set_title(\"Precision-recall Curve\")\n",
        "ax[1].set_xlabel(\"Recall\")\n",
        "ax[1].set_ylabel(\"Precision\")\n",
        "plt.show()"
      ],
      "execution_count": 0,
      "outputs": [
        {
          "output_type": "stream",
          "text": [
            "precision: 0.96\n",
            "recall: 0.80\n",
            "f1 score: 0.87\n",
            "\n",
            "\n",
            "Confusion matrix:\n",
            " [[56861     3]\n",
            " [   20    78]]\n",
            "\n",
            "\n"
          ],
          "name": "stdout"
        },
        {
          "output_type": "display_data",
          "data": {
            "image/png": "[encoded data removed]",
            "text/plain": [
              "<Figure size 1728x360 with 3 Axes>"
            ]
          },
          "metadata": {
            "tags": []
          }
        }
      ]
    },
    {
      "cell_type": "markdown",
      "metadata": {
        "id": "I2ZU75STz9GF",
        "colab_type": "text"
      },
      "source": [
        "**Case 2.3 - Extreme Gradient Boosting with Gradient Boosting hyperparameter and imbalanced data**"
      ]
    },
    {
      "cell_type": "code",
      "metadata": {
        "id": "Q4PMC5GLxtES",
        "colab_type": "code",
        "outputId": "653b3555-cf7d-4478-bce2-d8651460e9e5",
        "colab": {
          "base_uri": "https://localhost:8080/",
          "height": 519
        }
      },
      "source": [
        "classifier = XGBClassifier(n_estimators=100, eta=0.01, max_depth=5)\n",
        "classifier.fit(x_train, y_train)\n",
        "\n",
        "y_pred = classifier.predict(x_test)\n",
        "print (\"precision: {:.2f}\".format(precision_score(y_test, y_pred)))\n",
        "print (\"recall: {:.2f}\".format(recall_score(y_test, y_pred)))\n",
        "print (\"f1 score: {:.2f}\".format(f1_score(y_test, y_pred)))\n",
        "print (\"\\n\")\n",
        "\n",
        "cm = confusion_matrix(y_test, y_pred)\n",
        "print (\"Confusion matrix:\\n\", cm)\n",
        "print (\"\\n\")\n",
        "\n",
        "fig, ax = plt.subplots(1, 2, figsize=(24,5))\n",
        "\n",
        "# annot: If True, write the data value in each cell\n",
        "sns.heatmap(cm, ax=ax[0], annot=True, cmap=plt.cm.copper)\n",
        "ax[0].set_title(\"Confusion Matrix\")\n",
        "ax[0].set_xlabel(\"Prediction\")\n",
        "ax[0].set_ylabel(\"Actual\")\n",
        "\n",
        "precision, recall, _ = precision_recall_curve(y_test, y_pred)\n",
        "ax[1].plot(recall, precision)\n",
        "ax[1].set_title(\"Precision-recall Curve\")\n",
        "ax[1].set_xlabel(\"Recall\")\n",
        "ax[1].set_ylabel(\"Precision\")\n",
        "plt.show()"
      ],
      "execution_count": 0,
      "outputs": [
        {
          "output_type": "stream",
          "text": [
            "precision: 0.98\n",
            "recall: 0.81\n",
            "f1 score: 0.88\n",
            "\n",
            "\n",
            "Confusion matrix:\n",
            " [[56862     2]\n",
            " [   19    79]]\n",
            "\n",
            "\n"
          ],
          "name": "stdout"
        },
        {
          "output_type": "display_data",
          "data": {
            "image/png": "[encoded data removed]",
            "text/plain": [
              "<Figure size 1728x360 with 3 Axes>"
            ]
          },
          "metadata": {
            "tags": []
          }
        }
      ]
    }
  ]
}